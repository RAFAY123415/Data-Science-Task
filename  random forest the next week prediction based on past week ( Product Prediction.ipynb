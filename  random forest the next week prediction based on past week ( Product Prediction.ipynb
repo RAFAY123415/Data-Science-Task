{
 "cells": [
  {
   "cell_type": "markdown",
   "id": "591039d5",
   "metadata": {},
   "source": [
    "### How to Predict Multiple Time Series At Once With Scikit-Learn in 10 Simple Steps\n"
   ]
  },
  {
   "cell_type": "code",
   "execution_count": 3,
   "id": "3c3dba3d",
   "metadata": {},
   "outputs": [
    {
     "name": "stderr",
     "output_type": "stream",
     "text": [
      "C:\\Users\\Zigron\\anaconda3\\lib\\site-packages\\numpy\\_distributor_init.py:30: UserWarning: loaded more than 1 DLL from .libs:\n",
      "C:\\Users\\Zigron\\anaconda3\\lib\\site-packages\\numpy\\.libs\\libopenblas.PYQHXLVVQ7VESDPUVUADXEVJOBGHJPAY.gfortran-win_amd64.dll\n",
      "C:\\Users\\Zigron\\anaconda3\\lib\\site-packages\\numpy\\.libs\\libopenblas.WCDJNK7YVMPZQ2ME2ZZHJJRJ3JIKNDB7.gfortran-win_amd64.dll\n",
      "  warnings.warn(\"loaded more than 1 DLL from .libs:\"\n"
     ]
    }
   ],
   "source": [
    "import pandas as pd\n",
    "import numpy as np\n",
    "%matplotlib inline\n",
    "\n",
    "from sklearn.impute import SimpleImputer\n",
    "from sklearn.ensemble import RandomForestRegressor"
   ]
  },
  {
   "cell_type": "markdown",
   "id": "2f7b4ff3",
   "metadata": {},
   "source": [
    "### Melt the data, stack the series\n"
   ]
  },
  {
   "cell_type": "code",
   "execution_count": 4,
   "id": "d08997bd",
   "metadata": {},
   "outputs": [],
   "source": [
    "data = pd.read_csv(r'C:\\Users\\Zigron\\Downloads\\Sales_Transactions_Dataset_Weekly.csv')\n"
   ]
  },
  {
   "cell_type": "code",
   "execution_count": 5,
   "id": "bb3c51c1",
   "metadata": {},
   "outputs": [
    {
     "data": {
      "text/html": [
       "<div>\n",
       "<style scoped>\n",
       "    .dataframe tbody tr th:only-of-type {\n",
       "        vertical-align: middle;\n",
       "    }\n",
       "\n",
       "    .dataframe tbody tr th {\n",
       "        vertical-align: top;\n",
       "    }\n",
       "\n",
       "    .dataframe thead th {\n",
       "        text-align: right;\n",
       "    }\n",
       "</style>\n",
       "<table border=\"1\" class=\"dataframe\">\n",
       "  <thead>\n",
       "    <tr style=\"text-align: right;\">\n",
       "      <th></th>\n",
       "      <th>Product_Code</th>\n",
       "      <th>W0</th>\n",
       "      <th>W1</th>\n",
       "      <th>W2</th>\n",
       "      <th>W3</th>\n",
       "      <th>W4</th>\n",
       "      <th>W5</th>\n",
       "      <th>W6</th>\n",
       "      <th>W7</th>\n",
       "      <th>W8</th>\n",
       "      <th>...</th>\n",
       "      <th>Normalized 42</th>\n",
       "      <th>Normalized 43</th>\n",
       "      <th>Normalized 44</th>\n",
       "      <th>Normalized 45</th>\n",
       "      <th>Normalized 46</th>\n",
       "      <th>Normalized 47</th>\n",
       "      <th>Normalized 48</th>\n",
       "      <th>Normalized 49</th>\n",
       "      <th>Normalized 50</th>\n",
       "      <th>Normalized 51</th>\n",
       "    </tr>\n",
       "  </thead>\n",
       "  <tbody>\n",
       "    <tr>\n",
       "      <th>0</th>\n",
       "      <td>P1</td>\n",
       "      <td>11</td>\n",
       "      <td>12</td>\n",
       "      <td>10</td>\n",
       "      <td>8</td>\n",
       "      <td>13</td>\n",
       "      <td>12</td>\n",
       "      <td>14</td>\n",
       "      <td>21</td>\n",
       "      <td>6</td>\n",
       "      <td>...</td>\n",
       "      <td>0.06</td>\n",
       "      <td>0.22</td>\n",
       "      <td>0.28</td>\n",
       "      <td>0.39</td>\n",
       "      <td>0.5</td>\n",
       "      <td>0.0</td>\n",
       "      <td>0.22</td>\n",
       "      <td>0.17</td>\n",
       "      <td>0.11</td>\n",
       "      <td>0.39</td>\n",
       "    </tr>\n",
       "    <tr>\n",
       "      <th>1</th>\n",
       "      <td>P2</td>\n",
       "      <td>7</td>\n",
       "      <td>6</td>\n",
       "      <td>3</td>\n",
       "      <td>2</td>\n",
       "      <td>7</td>\n",
       "      <td>1</td>\n",
       "      <td>6</td>\n",
       "      <td>3</td>\n",
       "      <td>3</td>\n",
       "      <td>...</td>\n",
       "      <td>0.20</td>\n",
       "      <td>0.40</td>\n",
       "      <td>0.50</td>\n",
       "      <td>0.10</td>\n",
       "      <td>0.1</td>\n",
       "      <td>0.4</td>\n",
       "      <td>0.50</td>\n",
       "      <td>0.10</td>\n",
       "      <td>0.60</td>\n",
       "      <td>0.00</td>\n",
       "    </tr>\n",
       "  </tbody>\n",
       "</table>\n",
       "<p>2 rows × 107 columns</p>\n",
       "</div>"
      ],
      "text/plain": [
       "  Product_Code  W0  W1  W2  W3  W4  W5  W6  W7  W8  ...  Normalized 42  \\\n",
       "0           P1  11  12  10   8  13  12  14  21   6  ...           0.06   \n",
       "1           P2   7   6   3   2   7   1   6   3   3  ...           0.20   \n",
       "\n",
       "   Normalized 43  Normalized 44  Normalized 45  Normalized 46  Normalized 47  \\\n",
       "0           0.22           0.28           0.39            0.5            0.0   \n",
       "1           0.40           0.50           0.10            0.1            0.4   \n",
       "\n",
       "   Normalized 48  Normalized 49  Normalized 50  Normalized 51  \n",
       "0           0.22           0.17           0.11           0.39  \n",
       "1           0.50           0.10           0.60           0.00  \n",
       "\n",
       "[2 rows x 107 columns]"
      ]
     },
     "execution_count": 5,
     "metadata": {},
     "output_type": "execute_result"
    }
   ],
   "source": [
    "data.head(2)"
   ]
  },
  {
   "cell_type": "code",
   "execution_count": 6,
   "id": "a3f94d39",
   "metadata": {},
   "outputs": [],
   "source": [
    "data=data.filter(regex=r'Product|W')\n"
   ]
  },
  {
   "cell_type": "code",
   "execution_count": 7,
   "id": "27f3bcdb",
   "metadata": {},
   "outputs": [
    {
     "data": {
      "text/plain": [
       "Index(['Product_Code', 'W0', 'W1', 'W2', 'W3', 'W4', 'W5', 'W6', 'W7', 'W8',\n",
       "       'W9', 'W10', 'W11', 'W12', 'W13', 'W14', 'W15', 'W16', 'W17', 'W18',\n",
       "       'W19', 'W20', 'W21', 'W22', 'W23', 'W24', 'W25', 'W26', 'W27', 'W28',\n",
       "       'W29', 'W30', 'W31', 'W32', 'W33', 'W34', 'W35', 'W36', 'W37', 'W38',\n",
       "       'W39', 'W40', 'W41', 'W42', 'W43', 'W44', 'W45', 'W46', 'W47', 'W48',\n",
       "       'W49', 'W50', 'W51'],\n",
       "      dtype='object')"
      ]
     },
     "execution_count": 7,
     "metadata": {},
     "output_type": "execute_result"
    }
   ],
   "source": [
    "data.columns"
   ]
  },
  {
   "cell_type": "markdown",
   "id": "56d66214",
   "metadata": {},
   "source": [
    "### melt function is used to convert the wide format into long format"
   ]
  },
  {
   "cell_type": "code",
   "execution_count": 8,
   "id": "d23b24a1",
   "metadata": {},
   "outputs": [],
   "source": [
    "melt =data.melt(id_vars='Product_Code', var_name='Week', value_name='Sales')"
   ]
  },
  {
   "cell_type": "code",
   "execution_count": 9,
   "id": "72abdfb1",
   "metadata": {},
   "outputs": [
    {
     "data": {
      "text/html": [
       "<div>\n",
       "<style scoped>\n",
       "    .dataframe tbody tr th:only-of-type {\n",
       "        vertical-align: middle;\n",
       "    }\n",
       "\n",
       "    .dataframe tbody tr th {\n",
       "        vertical-align: top;\n",
       "    }\n",
       "\n",
       "    .dataframe thead th {\n",
       "        text-align: right;\n",
       "    }\n",
       "</style>\n",
       "<table border=\"1\" class=\"dataframe\">\n",
       "  <thead>\n",
       "    <tr style=\"text-align: right;\">\n",
       "      <th></th>\n",
       "      <th>Product_Code</th>\n",
       "      <th>Week</th>\n",
       "      <th>Sales</th>\n",
       "    </tr>\n",
       "  </thead>\n",
       "  <tbody>\n",
       "    <tr>\n",
       "      <th>0</th>\n",
       "      <td>P1</td>\n",
       "      <td>W0</td>\n",
       "      <td>11</td>\n",
       "    </tr>\n",
       "    <tr>\n",
       "      <th>1</th>\n",
       "      <td>P2</td>\n",
       "      <td>W0</td>\n",
       "      <td>7</td>\n",
       "    </tr>\n",
       "  </tbody>\n",
       "</table>\n",
       "</div>"
      ],
      "text/plain": [
       "  Product_Code Week  Sales\n",
       "0           P1   W0     11\n",
       "1           P2   W0      7"
      ]
     },
     "execution_count": 9,
     "metadata": {},
     "output_type": "execute_result"
    }
   ],
   "source": [
    "melt.head(2)"
   ]
  },
  {
   "cell_type": "code",
   "execution_count": 10,
   "id": "3979a58a",
   "metadata": {},
   "outputs": [
    {
     "data": {
      "text/plain": [
       "Product_Code    object\n",
       "Week            object\n",
       "Sales            int64\n",
       "dtype: object"
      ]
     },
     "execution_count": 10,
     "metadata": {},
     "output_type": "execute_result"
    }
   ],
   "source": [
    "melt.dtypes"
   ]
  },
  {
   "cell_type": "code",
   "execution_count": 11,
   "id": "ac4d0a7e",
   "metadata": {},
   "outputs": [],
   "source": [
    "melt['Product_Code'] = melt['Product_Code'].str.extract('(\\d+)', expand=False).astype(int)\n",
    "melt['Week'] = melt['Week'].str.extract('(\\d+)', expand=False).astype(int)\n"
   ]
  },
  {
   "cell_type": "code",
   "execution_count": 12,
   "id": "539e4d49",
   "metadata": {},
   "outputs": [
    {
     "data": {
      "text/html": [
       "<div>\n",
       "<style scoped>\n",
       "    .dataframe tbody tr th:only-of-type {\n",
       "        vertical-align: middle;\n",
       "    }\n",
       "\n",
       "    .dataframe tbody tr th {\n",
       "        vertical-align: top;\n",
       "    }\n",
       "\n",
       "    .dataframe thead th {\n",
       "        text-align: right;\n",
       "    }\n",
       "</style>\n",
       "<table border=\"1\" class=\"dataframe\">\n",
       "  <thead>\n",
       "    <tr style=\"text-align: right;\">\n",
       "      <th></th>\n",
       "      <th>Product_Code</th>\n",
       "      <th>Week</th>\n",
       "      <th>Sales</th>\n",
       "    </tr>\n",
       "  </thead>\n",
       "  <tbody>\n",
       "    <tr>\n",
       "      <th>0</th>\n",
       "      <td>1</td>\n",
       "      <td>0</td>\n",
       "      <td>11</td>\n",
       "    </tr>\n",
       "    <tr>\n",
       "      <th>1</th>\n",
       "      <td>2</td>\n",
       "      <td>0</td>\n",
       "      <td>7</td>\n",
       "    </tr>\n",
       "    <tr>\n",
       "      <th>2</th>\n",
       "      <td>3</td>\n",
       "      <td>0</td>\n",
       "      <td>7</td>\n",
       "    </tr>\n",
       "    <tr>\n",
       "      <th>3</th>\n",
       "      <td>4</td>\n",
       "      <td>0</td>\n",
       "      <td>12</td>\n",
       "    </tr>\n",
       "    <tr>\n",
       "      <th>4</th>\n",
       "      <td>5</td>\n",
       "      <td>0</td>\n",
       "      <td>8</td>\n",
       "    </tr>\n",
       "  </tbody>\n",
       "</table>\n",
       "</div>"
      ],
      "text/plain": [
       "   Product_Code  Week  Sales\n",
       "0             1     0     11\n",
       "1             2     0      7\n",
       "2             3     0      7\n",
       "3             4     0     12\n",
       "4             5     0      8"
      ]
     },
     "execution_count": 12,
     "metadata": {},
     "output_type": "execute_result"
    }
   ],
   "source": [
    "melt.head()"
   ]
  },
  {
   "cell_type": "code",
   "execution_count": 13,
   "id": "cc9ca078",
   "metadata": {},
   "outputs": [
    {
     "data": {
      "text/html": [
       "<div>\n",
       "<style scoped>\n",
       "    .dataframe tbody tr th:only-of-type {\n",
       "        vertical-align: middle;\n",
       "    }\n",
       "\n",
       "    .dataframe tbody tr th {\n",
       "        vertical-align: top;\n",
       "    }\n",
       "\n",
       "    .dataframe thead th {\n",
       "        text-align: right;\n",
       "    }\n",
       "</style>\n",
       "<table border=\"1\" class=\"dataframe\">\n",
       "  <thead>\n",
       "    <tr style=\"text-align: right;\">\n",
       "      <th></th>\n",
       "      <th>Product_Code</th>\n",
       "      <th>Week</th>\n",
       "      <th>Sales</th>\n",
       "    </tr>\n",
       "  </thead>\n",
       "  <tbody>\n",
       "    <tr>\n",
       "      <th>0</th>\n",
       "      <td>1</td>\n",
       "      <td>0</td>\n",
       "      <td>11</td>\n",
       "    </tr>\n",
       "    <tr>\n",
       "      <th>1</th>\n",
       "      <td>2</td>\n",
       "      <td>0</td>\n",
       "      <td>7</td>\n",
       "    </tr>\n",
       "    <tr>\n",
       "      <th>2</th>\n",
       "      <td>3</td>\n",
       "      <td>0</td>\n",
       "      <td>7</td>\n",
       "    </tr>\n",
       "    <tr>\n",
       "      <th>3</th>\n",
       "      <td>4</td>\n",
       "      <td>0</td>\n",
       "      <td>12</td>\n",
       "    </tr>\n",
       "    <tr>\n",
       "      <th>4</th>\n",
       "      <td>5</td>\n",
       "      <td>0</td>\n",
       "      <td>8</td>\n",
       "    </tr>\n",
       "  </tbody>\n",
       "</table>\n",
       "</div>"
      ],
      "text/plain": [
       "   Product_Code  Week  Sales\n",
       "0             1     0     11\n",
       "1             2     0      7\n",
       "2             3     0      7\n",
       "3             4     0     12\n",
       "4             5     0      8"
      ]
     },
     "execution_count": 13,
     "metadata": {},
     "output_type": "execute_result"
    }
   ],
   "source": [
    "melt = melt.sort_values(['Week', 'Product_Code'])\n",
    "melt.head()"
   ]
  },
  {
   "cell_type": "markdown",
   "id": "746b5479",
   "metadata": {},
   "source": [
    "### 2. Split the data\n"
   ]
  },
  {
   "cell_type": "code",
   "execution_count": 14,
   "id": "1f053d76",
   "metadata": {},
   "outputs": [],
   "source": [
    "split_point = 40\n",
    "melt_train = melt[melt['Week'] < split_point].copy()\n",
    "melt_valid = melt[melt['Week'] >= split_point].copy()"
   ]
  },
  {
   "cell_type": "markdown",
   "id": "eb2c50e4",
   "metadata": {},
   "source": [
    "### 3. Set up a 1-step target\n"
   ]
  },
  {
   "cell_type": "code",
   "execution_count": 37,
   "id": "96d6410c",
   "metadata": {},
   "outputs": [],
   "source": [
    "melt_train['sales_next_week'] = melt_train.groupby(\"Product_Code\")['Sales'].shift(-1)\n"
   ]
  },
  {
   "cell_type": "code",
   "execution_count": 41,
   "id": "c2b8e8cd",
   "metadata": {},
   "outputs": [
    {
     "data": {
      "text/html": [
       "<div>\n",
       "<style scoped>\n",
       "    .dataframe tbody tr th:only-of-type {\n",
       "        vertical-align: middle;\n",
       "    }\n",
       "\n",
       "    .dataframe tbody tr th {\n",
       "        vertical-align: top;\n",
       "    }\n",
       "\n",
       "    .dataframe thead th {\n",
       "        text-align: right;\n",
       "    }\n",
       "</style>\n",
       "<table border=\"1\" class=\"dataframe\">\n",
       "  <thead>\n",
       "    <tr style=\"text-align: right;\">\n",
       "      <th></th>\n",
       "      <th>Product_Code</th>\n",
       "      <th>Week</th>\n",
       "      <th>Sales</th>\n",
       "      <th>sales_next_week</th>\n",
       "    </tr>\n",
       "  </thead>\n",
       "  <tbody>\n",
       "    <tr>\n",
       "      <th>0</th>\n",
       "      <td>1</td>\n",
       "      <td>0</td>\n",
       "      <td>11</td>\n",
       "      <td>12.0</td>\n",
       "    </tr>\n",
       "    <tr>\n",
       "      <th>1</th>\n",
       "      <td>2</td>\n",
       "      <td>0</td>\n",
       "      <td>7</td>\n",
       "      <td>6.0</td>\n",
       "    </tr>\n",
       "    <tr>\n",
       "      <th>2</th>\n",
       "      <td>3</td>\n",
       "      <td>0</td>\n",
       "      <td>7</td>\n",
       "      <td>11.0</td>\n",
       "    </tr>\n",
       "    <tr>\n",
       "      <th>3</th>\n",
       "      <td>4</td>\n",
       "      <td>0</td>\n",
       "      <td>12</td>\n",
       "      <td>8.0</td>\n",
       "    </tr>\n",
       "    <tr>\n",
       "      <th>4</th>\n",
       "      <td>5</td>\n",
       "      <td>0</td>\n",
       "      <td>8</td>\n",
       "      <td>5.0</td>\n",
       "    </tr>\n",
       "    <tr>\n",
       "      <th>...</th>\n",
       "      <td>...</td>\n",
       "      <td>...</td>\n",
       "      <td>...</td>\n",
       "      <td>...</td>\n",
       "    </tr>\n",
       "    <tr>\n",
       "      <th>95</th>\n",
       "      <td>96</td>\n",
       "      <td>0</td>\n",
       "      <td>31</td>\n",
       "      <td>35.0</td>\n",
       "    </tr>\n",
       "    <tr>\n",
       "      <th>96</th>\n",
       "      <td>97</td>\n",
       "      <td>0</td>\n",
       "      <td>29</td>\n",
       "      <td>37.0</td>\n",
       "    </tr>\n",
       "    <tr>\n",
       "      <th>97</th>\n",
       "      <td>98</td>\n",
       "      <td>0</td>\n",
       "      <td>4</td>\n",
       "      <td>2.0</td>\n",
       "    </tr>\n",
       "    <tr>\n",
       "      <th>98</th>\n",
       "      <td>99</td>\n",
       "      <td>0</td>\n",
       "      <td>16</td>\n",
       "      <td>11.0</td>\n",
       "    </tr>\n",
       "    <tr>\n",
       "      <th>99</th>\n",
       "      <td>100</td>\n",
       "      <td>0</td>\n",
       "      <td>13</td>\n",
       "      <td>6.0</td>\n",
       "    </tr>\n",
       "  </tbody>\n",
       "</table>\n",
       "<p>100 rows × 4 columns</p>\n",
       "</div>"
      ],
      "text/plain": [
       "    Product_Code  Week  Sales  sales_next_week\n",
       "0              1     0     11             12.0\n",
       "1              2     0      7              6.0\n",
       "2              3     0      7             11.0\n",
       "3              4     0     12              8.0\n",
       "4              5     0      8              5.0\n",
       "..           ...   ...    ...              ...\n",
       "95            96     0     31             35.0\n",
       "96            97     0     29             37.0\n",
       "97            98     0      4              2.0\n",
       "98            99     0     16             11.0\n",
       "99           100     0     13              6.0\n",
       "\n",
       "[100 rows x 4 columns]"
      ]
     },
     "execution_count": 41,
     "metadata": {},
     "output_type": "execute_result"
    }
   ],
   "source": [
    "melt_train.head(100)"
   ]
  },
  {
   "cell_type": "code",
   "execution_count": 42,
   "id": "91ccd675",
   "metadata": {},
   "outputs": [
    {
     "data": {
      "text/html": [
       "<div>\n",
       "<style scoped>\n",
       "    .dataframe tbody tr th:only-of-type {\n",
       "        vertical-align: middle;\n",
       "    }\n",
       "\n",
       "    .dataframe tbody tr th {\n",
       "        vertical-align: top;\n",
       "    }\n",
       "\n",
       "    .dataframe thead th {\n",
       "        text-align: right;\n",
       "    }\n",
       "</style>\n",
       "<table border=\"1\" class=\"dataframe\">\n",
       "  <thead>\n",
       "    <tr style=\"text-align: right;\">\n",
       "      <th></th>\n",
       "      <th>Product_Code</th>\n",
       "      <th>Week</th>\n",
       "      <th>Sales</th>\n",
       "      <th>sales_next_week</th>\n",
       "    </tr>\n",
       "  </thead>\n",
       "  <tbody>\n",
       "    <tr>\n",
       "      <th>0</th>\n",
       "      <td>1</td>\n",
       "      <td>0</td>\n",
       "      <td>11</td>\n",
       "      <td>12.0</td>\n",
       "    </tr>\n",
       "    <tr>\n",
       "      <th>811</th>\n",
       "      <td>1</td>\n",
       "      <td>1</td>\n",
       "      <td>12</td>\n",
       "      <td>10.0</td>\n",
       "    </tr>\n",
       "    <tr>\n",
       "      <th>1622</th>\n",
       "      <td>1</td>\n",
       "      <td>2</td>\n",
       "      <td>10</td>\n",
       "      <td>8.0</td>\n",
       "    </tr>\n",
       "    <tr>\n",
       "      <th>2433</th>\n",
       "      <td>1</td>\n",
       "      <td>3</td>\n",
       "      <td>8</td>\n",
       "      <td>13.0</td>\n",
       "    </tr>\n",
       "    <tr>\n",
       "      <th>3244</th>\n",
       "      <td>1</td>\n",
       "      <td>4</td>\n",
       "      <td>13</td>\n",
       "      <td>12.0</td>\n",
       "    </tr>\n",
       "  </tbody>\n",
       "</table>\n",
       "</div>"
      ],
      "text/plain": [
       "      Product_Code  Week  Sales  sales_next_week\n",
       "0                1     0     11             12.0\n",
       "811              1     1     12             10.0\n",
       "1622             1     2     10              8.0\n",
       "2433             1     3      8             13.0\n",
       "3244             1     4     13             12.0"
      ]
     },
     "execution_count": 42,
     "metadata": {},
     "output_type": "execute_result"
    }
   ],
   "source": [
    "melt_train[melt_train['Product_Code'] == 1].head()\n"
   ]
  },
  {
   "cell_type": "code",
   "execution_count": 43,
   "id": "1cb4eed8",
   "metadata": {},
   "outputs": [],
   "source": [
    "melt_valid['sales_next_week'] = melt_valid.groupby(\"Product_Code\")['Sales'].shift(-1)\n"
   ]
  },
  {
   "cell_type": "code",
   "execution_count": 44,
   "id": "39fa47c5",
   "metadata": {},
   "outputs": [
    {
     "data": {
      "text/html": [
       "<div>\n",
       "<style scoped>\n",
       "    .dataframe tbody tr th:only-of-type {\n",
       "        vertical-align: middle;\n",
       "    }\n",
       "\n",
       "    .dataframe tbody tr th {\n",
       "        vertical-align: top;\n",
       "    }\n",
       "\n",
       "    .dataframe thead th {\n",
       "        text-align: right;\n",
       "    }\n",
       "</style>\n",
       "<table border=\"1\" class=\"dataframe\">\n",
       "  <thead>\n",
       "    <tr style=\"text-align: right;\">\n",
       "      <th></th>\n",
       "      <th>Product_Code</th>\n",
       "      <th>Week</th>\n",
       "      <th>Sales</th>\n",
       "      <th>sales_next_week</th>\n",
       "    </tr>\n",
       "  </thead>\n",
       "  <tbody>\n",
       "    <tr>\n",
       "      <th>32435</th>\n",
       "      <td>815</td>\n",
       "      <td>39</td>\n",
       "      <td>2</td>\n",
       "      <td>NaN</td>\n",
       "    </tr>\n",
       "    <tr>\n",
       "      <th>32436</th>\n",
       "      <td>816</td>\n",
       "      <td>39</td>\n",
       "      <td>6</td>\n",
       "      <td>NaN</td>\n",
       "    </tr>\n",
       "    <tr>\n",
       "      <th>32437</th>\n",
       "      <td>817</td>\n",
       "      <td>39</td>\n",
       "      <td>0</td>\n",
       "      <td>NaN</td>\n",
       "    </tr>\n",
       "    <tr>\n",
       "      <th>32438</th>\n",
       "      <td>818</td>\n",
       "      <td>39</td>\n",
       "      <td>0</td>\n",
       "      <td>NaN</td>\n",
       "    </tr>\n",
       "    <tr>\n",
       "      <th>32439</th>\n",
       "      <td>819</td>\n",
       "      <td>39</td>\n",
       "      <td>0</td>\n",
       "      <td>NaN</td>\n",
       "    </tr>\n",
       "  </tbody>\n",
       "</table>\n",
       "</div>"
      ],
      "text/plain": [
       "       Product_Code  Week  Sales  sales_next_week\n",
       "32435           815    39      2              NaN\n",
       "32436           816    39      6              NaN\n",
       "32437           817    39      0              NaN\n",
       "32438           818    39      0              NaN\n",
       "32439           819    39      0              NaN"
      ]
     },
     "execution_count": 44,
     "metadata": {},
     "output_type": "execute_result"
    }
   ],
   "source": [
    "melt_train.tail()\n"
   ]
  },
  {
   "cell_type": "code",
   "execution_count": 45,
   "id": "a009c652",
   "metadata": {},
   "outputs": [],
   "source": [
    "melt_train = melt_train.dropna()"
   ]
  },
  {
   "cell_type": "code",
   "execution_count": 46,
   "id": "dbf5a4ca",
   "metadata": {},
   "outputs": [
    {
     "data": {
      "text/html": [
       "<div>\n",
       "<style scoped>\n",
       "    .dataframe tbody tr th:only-of-type {\n",
       "        vertical-align: middle;\n",
       "    }\n",
       "\n",
       "    .dataframe tbody tr th {\n",
       "        vertical-align: top;\n",
       "    }\n",
       "\n",
       "    .dataframe thead th {\n",
       "        text-align: right;\n",
       "    }\n",
       "</style>\n",
       "<table border=\"1\" class=\"dataframe\">\n",
       "  <thead>\n",
       "    <tr style=\"text-align: right;\">\n",
       "      <th></th>\n",
       "      <th>Product_Code</th>\n",
       "      <th>Week</th>\n",
       "      <th>Sales</th>\n",
       "      <th>sales_next_week</th>\n",
       "    </tr>\n",
       "  </thead>\n",
       "  <tbody>\n",
       "    <tr>\n",
       "      <th>31624</th>\n",
       "      <td>815</td>\n",
       "      <td>38</td>\n",
       "      <td>1</td>\n",
       "      <td>2.0</td>\n",
       "    </tr>\n",
       "    <tr>\n",
       "      <th>31625</th>\n",
       "      <td>816</td>\n",
       "      <td>38</td>\n",
       "      <td>4</td>\n",
       "      <td>6.0</td>\n",
       "    </tr>\n",
       "    <tr>\n",
       "      <th>31626</th>\n",
       "      <td>817</td>\n",
       "      <td>38</td>\n",
       "      <td>0</td>\n",
       "      <td>0.0</td>\n",
       "    </tr>\n",
       "    <tr>\n",
       "      <th>31627</th>\n",
       "      <td>818</td>\n",
       "      <td>38</td>\n",
       "      <td>0</td>\n",
       "      <td>0.0</td>\n",
       "    </tr>\n",
       "    <tr>\n",
       "      <th>31628</th>\n",
       "      <td>819</td>\n",
       "      <td>38</td>\n",
       "      <td>1</td>\n",
       "      <td>0.0</td>\n",
       "    </tr>\n",
       "  </tbody>\n",
       "</table>\n",
       "</div>"
      ],
      "text/plain": [
       "       Product_Code  Week  Sales  sales_next_week\n",
       "31624           815    38      1              2.0\n",
       "31625           816    38      4              6.0\n",
       "31626           817    38      0              0.0\n",
       "31627           818    38      0              0.0\n",
       "31628           819    38      1              0.0"
      ]
     },
     "execution_count": 46,
     "metadata": {},
     "output_type": "execute_result"
    }
   ],
   "source": [
    "melt_train.tail()\n"
   ]
  },
  {
   "cell_type": "markdown",
   "id": "6fe5c78a",
   "metadata": {},
   "source": [
    "### Create 4 Fundamental Features\n",
    "4.1 Lag\n",
    "what if I don't have the last period? Get the closest available"
   ]
  },
  {
   "cell_type": "code",
   "execution_count": 50,
   "id": "f43333db",
   "metadata": {},
   "outputs": [],
   "source": [
    "melt_train[\"lag_sales_1\"] = melt_train.groupby(\"Product_Code\")['Sales'].shift(1)\n",
    "melt_valid[\"lag_sales_1\"] = melt_valid.groupby(\"Product_Code\")['Sales'].shift(1)\n"
   ]
  },
  {
   "cell_type": "code",
   "execution_count": 51,
   "id": "515b74e1",
   "metadata": {},
   "outputs": [
    {
     "data": {
      "text/plain": [
       "32440    NaN\n",
       "32441    NaN\n",
       "32442    NaN\n",
       "32443    NaN\n",
       "32444    NaN\n",
       "        ... \n",
       "42167    2.0\n",
       "42168    6.0\n",
       "42169    4.0\n",
       "42170    2.0\n",
       "42171    0.0\n",
       "Name: lag_sales_1, Length: 9732, dtype: float64"
      ]
     },
     "execution_count": 51,
     "metadata": {},
     "output_type": "execute_result"
    }
   ],
   "source": [
    "melt_valid[\"lag_sales_1\"]"
   ]
  },
  {
   "cell_type": "markdown",
   "id": "8e9be619",
   "metadata": {},
   "source": [
    "### 4.2 Difference\n"
   ]
  },
  {
   "cell_type": "code",
   "execution_count": 52,
   "id": "d9165f1d",
   "metadata": {},
   "outputs": [],
   "source": [
    "melt_train[\"diff_sales_1\"] = melt_train.groupby(\"Product_Code\")['Sales'].diff(1)\n"
   ]
  },
  {
   "cell_type": "code",
   "execution_count": 53,
   "id": "4bf8935b",
   "metadata": {},
   "outputs": [
    {
     "data": {
      "text/html": [
       "<div>\n",
       "<style scoped>\n",
       "    .dataframe tbody tr th:only-of-type {\n",
       "        vertical-align: middle;\n",
       "    }\n",
       "\n",
       "    .dataframe tbody tr th {\n",
       "        vertical-align: top;\n",
       "    }\n",
       "\n",
       "    .dataframe thead th {\n",
       "        text-align: right;\n",
       "    }\n",
       "</style>\n",
       "<table border=\"1\" class=\"dataframe\">\n",
       "  <thead>\n",
       "    <tr style=\"text-align: right;\">\n",
       "      <th></th>\n",
       "      <th>Product_Code</th>\n",
       "      <th>Week</th>\n",
       "      <th>Sales</th>\n",
       "      <th>sales_next_week</th>\n",
       "      <th>lag_sales_1</th>\n",
       "      <th>diff_sales_1</th>\n",
       "    </tr>\n",
       "  </thead>\n",
       "  <tbody>\n",
       "    <tr>\n",
       "      <th>0</th>\n",
       "      <td>1</td>\n",
       "      <td>0</td>\n",
       "      <td>11</td>\n",
       "      <td>12.0</td>\n",
       "      <td>NaN</td>\n",
       "      <td>NaN</td>\n",
       "    </tr>\n",
       "    <tr>\n",
       "      <th>811</th>\n",
       "      <td>1</td>\n",
       "      <td>1</td>\n",
       "      <td>12</td>\n",
       "      <td>10.0</td>\n",
       "      <td>11.0</td>\n",
       "      <td>1.0</td>\n",
       "    </tr>\n",
       "    <tr>\n",
       "      <th>1622</th>\n",
       "      <td>1</td>\n",
       "      <td>2</td>\n",
       "      <td>10</td>\n",
       "      <td>8.0</td>\n",
       "      <td>12.0</td>\n",
       "      <td>-2.0</td>\n",
       "    </tr>\n",
       "    <tr>\n",
       "      <th>2433</th>\n",
       "      <td>1</td>\n",
       "      <td>3</td>\n",
       "      <td>8</td>\n",
       "      <td>13.0</td>\n",
       "      <td>10.0</td>\n",
       "      <td>-2.0</td>\n",
       "    </tr>\n",
       "    <tr>\n",
       "      <th>3244</th>\n",
       "      <td>1</td>\n",
       "      <td>4</td>\n",
       "      <td>13</td>\n",
       "      <td>12.0</td>\n",
       "      <td>8.0</td>\n",
       "      <td>5.0</td>\n",
       "    </tr>\n",
       "  </tbody>\n",
       "</table>\n",
       "</div>"
      ],
      "text/plain": [
       "      Product_Code  Week  Sales  sales_next_week  lag_sales_1  diff_sales_1\n",
       "0                1     0     11             12.0          NaN           NaN\n",
       "811              1     1     12             10.0         11.0           1.0\n",
       "1622             1     2     10              8.0         12.0          -2.0\n",
       "2433             1     3      8             13.0         10.0          -2.0\n",
       "3244             1     4     13             12.0          8.0           5.0"
      ]
     },
     "execution_count": 53,
     "metadata": {},
     "output_type": "execute_result"
    }
   ],
   "source": [
    "melt_train[melt_train['Product_Code'] == 1].head()"
   ]
  },
  {
   "cell_type": "code",
   "execution_count": 54,
   "id": "73b877b3",
   "metadata": {},
   "outputs": [],
   "source": [
    "melt_valid[\"diff_sales_1\"] = melt_valid.groupby(\"Product_Code\")['Sales'].diff(1)\n"
   ]
  },
  {
   "cell_type": "markdown",
   "id": "d39d1155",
   "metadata": {},
   "source": [
    "### 4.3 Rolling statistics\n"
   ]
  },
  {
   "cell_type": "markdown",
   "id": "8670a178",
   "metadata": {},
   "source": [
    "### Mean\n",
    "### Max\n",
    "### Min\n",
    "### Std"
   ]
  },
  {
   "cell_type": "code",
   "execution_count": 55,
   "id": "b4f69f67",
   "metadata": {},
   "outputs": [
    {
     "data": {
      "text/plain": [
       "Product_Code       \n",
       "1             0          NaN\n",
       "              811        NaN\n",
       "              1622       NaN\n",
       "              2433     10.25\n",
       "              3244     10.75\n",
       "                       ...  \n",
       "819           28384     0.25\n",
       "              29195     1.00\n",
       "              30006     1.00\n",
       "              30817     1.25\n",
       "              31628     1.50\n",
       "Name: Sales, Length: 31629, dtype: float64"
      ]
     },
     "execution_count": 55,
     "metadata": {},
     "output_type": "execute_result"
    }
   ],
   "source": [
    "melt_train.groupby(\"Product_Code\")['Sales'].rolling(4).mean()\n"
   ]
  },
  {
   "cell_type": "code",
   "execution_count": 56,
   "id": "0f23799b",
   "metadata": {},
   "outputs": [
    {
     "data": {
      "text/plain": [
       "0          NaN\n",
       "811        NaN\n",
       "1622       NaN\n",
       "2433     10.25\n",
       "3244     10.75\n",
       "         ...  \n",
       "28384     0.25\n",
       "29195     1.00\n",
       "30006     1.00\n",
       "30817     1.25\n",
       "31628     1.50\n",
       "Name: Sales, Length: 31629, dtype: float64"
      ]
     },
     "execution_count": 56,
     "metadata": {},
     "output_type": "execute_result"
    }
   ],
   "source": [
    "melt_train.groupby(\"Product_Code\")['Sales'].rolling(4).mean().reset_index(level=0, drop=True)\n"
   ]
  },
  {
   "cell_type": "code",
   "execution_count": 71,
   "id": "fa58607c",
   "metadata": {},
   "outputs": [],
   "source": [
    "melt_train[\"mean_sales_4\"] = melt_train.groupby(\"Product_Code\")['Sales'].rolling(4).mean().reset_index(level=0, drop=True)\n",
    "melt_valid[\"mean_sales_4\"] = melt_train.groupby(\"Product_Code\")['Sales'].rolling(4).mean().reset_index(level=0, drop=True)\n"
   ]
  },
  {
   "cell_type": "code",
   "execution_count": 59,
   "id": "cd596db5",
   "metadata": {},
   "outputs": [
    {
     "data": {
      "text/html": [
       "<div>\n",
       "<style scoped>\n",
       "    .dataframe tbody tr th:only-of-type {\n",
       "        vertical-align: middle;\n",
       "    }\n",
       "\n",
       "    .dataframe tbody tr th {\n",
       "        vertical-align: top;\n",
       "    }\n",
       "\n",
       "    .dataframe thead th {\n",
       "        text-align: right;\n",
       "    }\n",
       "</style>\n",
       "<table border=\"1\" class=\"dataframe\">\n",
       "  <thead>\n",
       "    <tr style=\"text-align: right;\">\n",
       "      <th></th>\n",
       "      <th>Product_Code</th>\n",
       "      <th>Week</th>\n",
       "      <th>Sales</th>\n",
       "      <th>sales_next_week</th>\n",
       "      <th>lag_sales_1</th>\n",
       "      <th>diff_sales_1</th>\n",
       "      <th>mean_sales_4</th>\n",
       "    </tr>\n",
       "  </thead>\n",
       "  <tbody>\n",
       "    <tr>\n",
       "      <th>0</th>\n",
       "      <td>1</td>\n",
       "      <td>0</td>\n",
       "      <td>11</td>\n",
       "      <td>12.0</td>\n",
       "      <td>NaN</td>\n",
       "      <td>NaN</td>\n",
       "      <td>NaN</td>\n",
       "    </tr>\n",
       "    <tr>\n",
       "      <th>811</th>\n",
       "      <td>1</td>\n",
       "      <td>1</td>\n",
       "      <td>12</td>\n",
       "      <td>10.0</td>\n",
       "      <td>11.0</td>\n",
       "      <td>1.0</td>\n",
       "      <td>NaN</td>\n",
       "    </tr>\n",
       "    <tr>\n",
       "      <th>1622</th>\n",
       "      <td>1</td>\n",
       "      <td>2</td>\n",
       "      <td>10</td>\n",
       "      <td>8.0</td>\n",
       "      <td>12.0</td>\n",
       "      <td>-2.0</td>\n",
       "      <td>NaN</td>\n",
       "    </tr>\n",
       "    <tr>\n",
       "      <th>2433</th>\n",
       "      <td>1</td>\n",
       "      <td>3</td>\n",
       "      <td>8</td>\n",
       "      <td>13.0</td>\n",
       "      <td>10.0</td>\n",
       "      <td>-2.0</td>\n",
       "      <td>10.25</td>\n",
       "    </tr>\n",
       "    <tr>\n",
       "      <th>3244</th>\n",
       "      <td>1</td>\n",
       "      <td>4</td>\n",
       "      <td>13</td>\n",
       "      <td>12.0</td>\n",
       "      <td>8.0</td>\n",
       "      <td>5.0</td>\n",
       "      <td>10.75</td>\n",
       "    </tr>\n",
       "  </tbody>\n",
       "</table>\n",
       "</div>"
      ],
      "text/plain": [
       "      Product_Code  Week  Sales  sales_next_week  lag_sales_1  diff_sales_1  \\\n",
       "0                1     0     11             12.0          NaN           NaN   \n",
       "811              1     1     12             10.0         11.0           1.0   \n",
       "1622             1     2     10              8.0         12.0          -2.0   \n",
       "2433             1     3      8             13.0         10.0          -2.0   \n",
       "3244             1     4     13             12.0          8.0           5.0   \n",
       "\n",
       "      mean_sales_4  \n",
       "0              NaN  \n",
       "811            NaN  \n",
       "1622           NaN  \n",
       "2433         10.25  \n",
       "3244         10.75  "
      ]
     },
     "execution_count": 59,
     "metadata": {},
     "output_type": "execute_result"
    }
   ],
   "source": [
    "melt_train[melt_train['Product_Code'] == 1].head()\n"
   ]
  },
  {
   "cell_type": "code",
   "execution_count": 60,
   "id": "402ca9da",
   "metadata": {},
   "outputs": [],
   "source": [
    "def mape(y_true, y_pred):\n",
    "    ape = np.abs((y_true - y_pred) / y_true)\n",
    "    #ape[~np.isfinite(ape)] = 0. # VERY questionable\n",
    "    ape[~np.isfinite(ape)] = 1. # pessimist estimate\n",
    "    return np.mean(ape)\n",
    "\n",
    "def wmape(y_true, y_pred):\n",
    "    return np.sum(np.abs(y_true - y_pred)) / np.sum(np.abs(y_true))\n"
   ]
  },
  {
   "cell_type": "code",
   "execution_count": 61,
   "id": "335190bb",
   "metadata": {},
   "outputs": [
    {
     "data": {
      "text/html": [
       "<div>\n",
       "<style scoped>\n",
       "    .dataframe tbody tr th:only-of-type {\n",
       "        vertical-align: middle;\n",
       "    }\n",
       "\n",
       "    .dataframe tbody tr th {\n",
       "        vertical-align: top;\n",
       "    }\n",
       "\n",
       "    .dataframe thead th {\n",
       "        text-align: right;\n",
       "    }\n",
       "</style>\n",
       "<table border=\"1\" class=\"dataframe\">\n",
       "  <thead>\n",
       "    <tr style=\"text-align: right;\">\n",
       "      <th></th>\n",
       "      <th>Product_Code</th>\n",
       "      <th>Week</th>\n",
       "      <th>Sales</th>\n",
       "      <th>sales_next_week</th>\n",
       "      <th>lag_sales_1</th>\n",
       "      <th>diff_sales_1</th>\n",
       "      <th>mean_sales_4</th>\n",
       "    </tr>\n",
       "  </thead>\n",
       "  <tbody>\n",
       "    <tr>\n",
       "      <th>0</th>\n",
       "      <td>1</td>\n",
       "      <td>0</td>\n",
       "      <td>11</td>\n",
       "      <td>12.0</td>\n",
       "      <td>NaN</td>\n",
       "      <td>NaN</td>\n",
       "      <td>NaN</td>\n",
       "    </tr>\n",
       "    <tr>\n",
       "      <th>1</th>\n",
       "      <td>2</td>\n",
       "      <td>0</td>\n",
       "      <td>7</td>\n",
       "      <td>6.0</td>\n",
       "      <td>NaN</td>\n",
       "      <td>NaN</td>\n",
       "      <td>NaN</td>\n",
       "    </tr>\n",
       "    <tr>\n",
       "      <th>2</th>\n",
       "      <td>3</td>\n",
       "      <td>0</td>\n",
       "      <td>7</td>\n",
       "      <td>11.0</td>\n",
       "      <td>NaN</td>\n",
       "      <td>NaN</td>\n",
       "      <td>NaN</td>\n",
       "    </tr>\n",
       "    <tr>\n",
       "      <th>3</th>\n",
       "      <td>4</td>\n",
       "      <td>0</td>\n",
       "      <td>12</td>\n",
       "      <td>8.0</td>\n",
       "      <td>NaN</td>\n",
       "      <td>NaN</td>\n",
       "      <td>NaN</td>\n",
       "    </tr>\n",
       "    <tr>\n",
       "      <th>4</th>\n",
       "      <td>5</td>\n",
       "      <td>0</td>\n",
       "      <td>8</td>\n",
       "      <td>5.0</td>\n",
       "      <td>NaN</td>\n",
       "      <td>NaN</td>\n",
       "      <td>NaN</td>\n",
       "    </tr>\n",
       "  </tbody>\n",
       "</table>\n",
       "</div>"
      ],
      "text/plain": [
       "   Product_Code  Week  Sales  sales_next_week  lag_sales_1  diff_sales_1  \\\n",
       "0             1     0     11             12.0          NaN           NaN   \n",
       "1             2     0      7              6.0          NaN           NaN   \n",
       "2             3     0      7             11.0          NaN           NaN   \n",
       "3             4     0     12              8.0          NaN           NaN   \n",
       "4             5     0      8              5.0          NaN           NaN   \n",
       "\n",
       "   mean_sales_4  \n",
       "0           NaN  \n",
       "1           NaN  \n",
       "2           NaN  \n",
       "3           NaN  \n",
       "4           NaN  "
      ]
     },
     "execution_count": 61,
     "metadata": {},
     "output_type": "execute_result"
    }
   ],
   "source": [
    "melt_train.head(5)\n"
   ]
  },
  {
   "cell_type": "code",
   "execution_count": 65,
   "id": "ee4d1429",
   "metadata": {},
   "outputs": [],
   "source": [
    "features = ['Sales', 'lag_sales_1', 'diff_sales_1', 'mean_sales_4']\n"
   ]
  },
  {
   "cell_type": "code",
   "execution_count": 72,
   "id": "ad81c177",
   "metadata": {},
   "outputs": [
    {
     "data": {
      "text/plain": [
       "RandomForestRegressor(n_jobs=6, random_state=0)"
      ]
     },
     "execution_count": 72,
     "metadata": {},
     "output_type": "execute_result"
    }
   ],
   "source": [
    "imputer = SimpleImputer()\n",
    "Xtr = imputer.fit_transform(melt_train[features])\n",
    "ytr = melt_train['sales_next_week']\n",
    "\n",
    "\n",
    "mdl = RandomForestRegressor(n_estimators=100, random_state=0, n_jobs=6)\n",
    "mdl.fit(Xtr, ytr)"
   ]
  },
  {
   "cell_type": "code",
   "execution_count": 73,
   "id": "d8f0943b",
   "metadata": {},
   "outputs": [],
   "source": [
    "Xval = imputer.transform(melt_valid[features])\n",
    "yval = melt_valid['sales_next_week']\n",
    "\n",
    "p = mdl.predict(Xval)"
   ]
  },
  {
   "cell_type": "code",
   "execution_count": 74,
   "id": "472f58ac",
   "metadata": {},
   "outputs": [
    {
     "data": {
      "text/plain": [
       "0.6789502899719647"
      ]
     },
     "execution_count": 74,
     "metadata": {},
     "output_type": "execute_result"
    }
   ],
   "source": [
    "mape(yval, p)\n"
   ]
  },
  {
   "cell_type": "code",
   "execution_count": 75,
   "id": "f535db88",
   "metadata": {},
   "outputs": [
    {
     "data": {
      "text/plain": [
       "0.331011282307137"
      ]
     },
     "execution_count": 75,
     "metadata": {},
     "output_type": "execute_result"
    }
   ],
   "source": [
    "wmape(yval, p)\n"
   ]
  },
  {
   "cell_type": "code",
   "execution_count": 76,
   "id": "0b29d229",
   "metadata": {},
   "outputs": [
    {
     "name": "stderr",
     "output_type": "stream",
     "text": [
      "C:\\Users\\Zigron\\anaconda3\\lib\\site-packages\\pandas\\core\\frame.py:3607: SettingWithCopyWarning: \n",
      "A value is trying to be set on a copy of a slice from a DataFrame.\n",
      "Try using .loc[row_indexer,col_indexer] = value instead\n",
      "\n",
      "See the caveats in the documentation: https://pandas.pydata.org/pandas-docs/stable/user_guide/indexing.html#returning-a-view-versus-a-copy\n",
      "  self._set_item(key, value)\n"
     ]
    }
   ],
   "source": [
    "##Extend the model to predict n-steps\n",
    "melt_train['sales_next_next_week'] = melt_train.groupby(\"Product_Code\")['Sales'].shift(-2)\n",
    "melt_valid['sales_next_next_week'] = melt_valid.groupby(\"Product_Code\")['Sales'].shift(-2)"
   ]
  },
  {
   "cell_type": "code",
   "execution_count": 77,
   "id": "9fa09209",
   "metadata": {},
   "outputs": [
    {
     "data": {
      "text/html": [
       "<div>\n",
       "<style scoped>\n",
       "    .dataframe tbody tr th:only-of-type {\n",
       "        vertical-align: middle;\n",
       "    }\n",
       "\n",
       "    .dataframe tbody tr th {\n",
       "        vertical-align: top;\n",
       "    }\n",
       "\n",
       "    .dataframe thead th {\n",
       "        text-align: right;\n",
       "    }\n",
       "</style>\n",
       "<table border=\"1\" class=\"dataframe\">\n",
       "  <thead>\n",
       "    <tr style=\"text-align: right;\">\n",
       "      <th></th>\n",
       "      <th>Product_Code</th>\n",
       "      <th>Week</th>\n",
       "      <th>Sales</th>\n",
       "      <th>sales_next_week</th>\n",
       "      <th>lag_sales_1</th>\n",
       "      <th>diff_sales_1</th>\n",
       "      <th>mean_sales_4</th>\n",
       "      <th>sales_next_next_week</th>\n",
       "    </tr>\n",
       "  </thead>\n",
       "  <tbody>\n",
       "    <tr>\n",
       "      <th>0</th>\n",
       "      <td>1</td>\n",
       "      <td>0</td>\n",
       "      <td>11</td>\n",
       "      <td>12.0</td>\n",
       "      <td>NaN</td>\n",
       "      <td>NaN</td>\n",
       "      <td>NaN</td>\n",
       "      <td>10.0</td>\n",
       "    </tr>\n",
       "    <tr>\n",
       "      <th>811</th>\n",
       "      <td>1</td>\n",
       "      <td>1</td>\n",
       "      <td>12</td>\n",
       "      <td>10.0</td>\n",
       "      <td>11.0</td>\n",
       "      <td>1.0</td>\n",
       "      <td>NaN</td>\n",
       "      <td>8.0</td>\n",
       "    </tr>\n",
       "    <tr>\n",
       "      <th>1622</th>\n",
       "      <td>1</td>\n",
       "      <td>2</td>\n",
       "      <td>10</td>\n",
       "      <td>8.0</td>\n",
       "      <td>12.0</td>\n",
       "      <td>-2.0</td>\n",
       "      <td>NaN</td>\n",
       "      <td>13.0</td>\n",
       "    </tr>\n",
       "    <tr>\n",
       "      <th>2433</th>\n",
       "      <td>1</td>\n",
       "      <td>3</td>\n",
       "      <td>8</td>\n",
       "      <td>13.0</td>\n",
       "      <td>10.0</td>\n",
       "      <td>-2.0</td>\n",
       "      <td>10.25</td>\n",
       "      <td>12.0</td>\n",
       "    </tr>\n",
       "    <tr>\n",
       "      <th>3244</th>\n",
       "      <td>1</td>\n",
       "      <td>4</td>\n",
       "      <td>13</td>\n",
       "      <td>12.0</td>\n",
       "      <td>8.0</td>\n",
       "      <td>5.0</td>\n",
       "      <td>10.75</td>\n",
       "      <td>14.0</td>\n",
       "    </tr>\n",
       "  </tbody>\n",
       "</table>\n",
       "</div>"
      ],
      "text/plain": [
       "      Product_Code  Week  Sales  sales_next_week  lag_sales_1  diff_sales_1  \\\n",
       "0                1     0     11             12.0          NaN           NaN   \n",
       "811              1     1     12             10.0         11.0           1.0   \n",
       "1622             1     2     10              8.0         12.0          -2.0   \n",
       "2433             1     3      8             13.0         10.0          -2.0   \n",
       "3244             1     4     13             12.0          8.0           5.0   \n",
       "\n",
       "      mean_sales_4  sales_next_next_week  \n",
       "0              NaN                  10.0  \n",
       "811            NaN                   8.0  \n",
       "1622           NaN                  13.0  \n",
       "2433         10.25                  12.0  \n",
       "3244         10.75                  14.0  "
      ]
     },
     "execution_count": 77,
     "metadata": {},
     "output_type": "execute_result"
    }
   ],
   "source": [
    "melt_train[melt_train['Product_Code'] == 1].head()\n"
   ]
  },
  {
   "cell_type": "code",
   "execution_count": 78,
   "id": "017512a9",
   "metadata": {},
   "outputs": [],
   "source": [
    "melt_train = melt_train.dropna(subset=['sales_next_week','sales_next_next_week'])\n"
   ]
  },
  {
   "cell_type": "code",
   "execution_count": 79,
   "id": "2e492990",
   "metadata": {},
   "outputs": [
    {
     "data": {
      "text/html": [
       "<div>\n",
       "<style scoped>\n",
       "    .dataframe tbody tr th:only-of-type {\n",
       "        vertical-align: middle;\n",
       "    }\n",
       "\n",
       "    .dataframe tbody tr th {\n",
       "        vertical-align: top;\n",
       "    }\n",
       "\n",
       "    .dataframe thead th {\n",
       "        text-align: right;\n",
       "    }\n",
       "</style>\n",
       "<table border=\"1\" class=\"dataframe\">\n",
       "  <thead>\n",
       "    <tr style=\"text-align: right;\">\n",
       "      <th></th>\n",
       "      <th>Product_Code</th>\n",
       "      <th>Week</th>\n",
       "      <th>Sales</th>\n",
       "      <th>sales_next_week</th>\n",
       "      <th>lag_sales_1</th>\n",
       "      <th>diff_sales_1</th>\n",
       "      <th>mean_sales_4</th>\n",
       "      <th>sales_next_next_week</th>\n",
       "    </tr>\n",
       "  </thead>\n",
       "  <tbody>\n",
       "    <tr>\n",
       "      <th>0</th>\n",
       "      <td>1</td>\n",
       "      <td>0</td>\n",
       "      <td>11</td>\n",
       "      <td>12.0</td>\n",
       "      <td>NaN</td>\n",
       "      <td>NaN</td>\n",
       "      <td>NaN</td>\n",
       "      <td>10.0</td>\n",
       "    </tr>\n",
       "    <tr>\n",
       "      <th>1</th>\n",
       "      <td>2</td>\n",
       "      <td>0</td>\n",
       "      <td>7</td>\n",
       "      <td>6.0</td>\n",
       "      <td>NaN</td>\n",
       "      <td>NaN</td>\n",
       "      <td>NaN</td>\n",
       "      <td>3.0</td>\n",
       "    </tr>\n",
       "  </tbody>\n",
       "</table>\n",
       "</div>"
      ],
      "text/plain": [
       "   Product_Code  Week  Sales  sales_next_week  lag_sales_1  diff_sales_1  \\\n",
       "0             1     0     11             12.0          NaN           NaN   \n",
       "1             2     0      7              6.0          NaN           NaN   \n",
       "\n",
       "   mean_sales_4  sales_next_next_week  \n",
       "0           NaN                  10.0  \n",
       "1           NaN                   3.0  "
      ]
     },
     "execution_count": 79,
     "metadata": {},
     "output_type": "execute_result"
    }
   ],
   "source": [
    "melt_train.head(2)"
   ]
  },
  {
   "cell_type": "code",
   "execution_count": 80,
   "id": "994e7f25",
   "metadata": {},
   "outputs": [
    {
     "data": {
      "text/plain": [
       "RandomForestRegressor(n_jobs=6, random_state=0)"
      ]
     },
     "execution_count": 80,
     "metadata": {},
     "output_type": "execute_result"
    }
   ],
   "source": [
    "imputer = SimpleImputer()\n",
    "Xtr = imputer.fit_transform(melt_train[features])\n",
    "ytr = melt_train[['sales_next_week', 'sales_next_next_week']]\n",
    "\n",
    "mdl = RandomForestRegressor(n_estimators=100, random_state=0, n_jobs=6)\n",
    "mdl.fit(Xtr, ytr)"
   ]
  },
  {
   "cell_type": "code",
   "execution_count": 81,
   "id": "3cfbfb2f",
   "metadata": {},
   "outputs": [],
   "source": [
    "Xval = imputer.transform(melt_valid[features])\n",
    "yval = melt_valid[['sales_next_week', 'sales_next_next_week']]\n",
    "\n",
    "p = mdl.predict(Xval)"
   ]
  },
  {
   "cell_type": "code",
   "execution_count": 82,
   "id": "61e5deaa",
   "metadata": {},
   "outputs": [
    {
     "data": {
      "text/plain": [
       "sales_next_week         0.678918\n",
       "sales_next_next_week    0.716169\n",
       "dtype: float64"
      ]
     },
     "execution_count": 82,
     "metadata": {},
     "output_type": "execute_result"
    }
   ],
   "source": [
    "mape(yval, p)\n"
   ]
  },
  {
   "cell_type": "code",
   "execution_count": 83,
   "id": "2591766f",
   "metadata": {},
   "outputs": [
    {
     "data": {
      "text/plain": [
       "sales_next_week         0.331832\n",
       "sales_next_next_week    0.346699\n",
       "dtype: float64"
      ]
     },
     "execution_count": 83,
     "metadata": {},
     "output_type": "execute_result"
    }
   ],
   "source": [
    "wmape(yval, p)\n"
   ]
  },
  {
   "cell_type": "markdown",
   "id": "8585e7e1",
   "metadata": {},
   "source": [
    "### multioutput modeling when  we have more then one varaible to predict about the sales"
   ]
  },
  {
   "cell_type": "markdown",
   "id": "70237875",
   "metadata": {},
   "source": [
    "### 10. Predicting new examples\n",
    "As long as you have the same features you used to train, you can predict for any period\n"
   ]
  },
  {
   "cell_type": "code",
   "execution_count": 84,
   "id": "3177661f",
   "metadata": {},
   "outputs": [
    {
     "data": {
      "text/html": [
       "<div>\n",
       "<style scoped>\n",
       "    .dataframe tbody tr th:only-of-type {\n",
       "        vertical-align: middle;\n",
       "    }\n",
       "\n",
       "    .dataframe tbody tr th {\n",
       "        vertical-align: top;\n",
       "    }\n",
       "\n",
       "    .dataframe thead th {\n",
       "        text-align: right;\n",
       "    }\n",
       "</style>\n",
       "<table border=\"1\" class=\"dataframe\">\n",
       "  <thead>\n",
       "    <tr style=\"text-align: right;\">\n",
       "      <th></th>\n",
       "      <th>Product_Code</th>\n",
       "      <th>Week</th>\n",
       "      <th>Sales</th>\n",
       "      <th>sales_next_week</th>\n",
       "      <th>lag_sales_1</th>\n",
       "      <th>diff_sales_1</th>\n",
       "      <th>mean_sales_4</th>\n",
       "      <th>sales_next_next_week</th>\n",
       "    </tr>\n",
       "  </thead>\n",
       "  <tbody>\n",
       "    <tr>\n",
       "      <th>42167</th>\n",
       "      <td>815</td>\n",
       "      <td>51</td>\n",
       "      <td>0</td>\n",
       "      <td>NaN</td>\n",
       "      <td>2.0</td>\n",
       "      <td>-2.0</td>\n",
       "      <td>NaN</td>\n",
       "      <td>NaN</td>\n",
       "    </tr>\n",
       "    <tr>\n",
       "      <th>42168</th>\n",
       "      <td>816</td>\n",
       "      <td>51</td>\n",
       "      <td>5</td>\n",
       "      <td>NaN</td>\n",
       "      <td>6.0</td>\n",
       "      <td>-1.0</td>\n",
       "      <td>NaN</td>\n",
       "      <td>NaN</td>\n",
       "    </tr>\n",
       "    <tr>\n",
       "      <th>42169</th>\n",
       "      <td>817</td>\n",
       "      <td>51</td>\n",
       "      <td>3</td>\n",
       "      <td>NaN</td>\n",
       "      <td>4.0</td>\n",
       "      <td>-1.0</td>\n",
       "      <td>NaN</td>\n",
       "      <td>NaN</td>\n",
       "    </tr>\n",
       "    <tr>\n",
       "      <th>42170</th>\n",
       "      <td>818</td>\n",
       "      <td>51</td>\n",
       "      <td>0</td>\n",
       "      <td>NaN</td>\n",
       "      <td>2.0</td>\n",
       "      <td>-2.0</td>\n",
       "      <td>NaN</td>\n",
       "      <td>NaN</td>\n",
       "    </tr>\n",
       "    <tr>\n",
       "      <th>42171</th>\n",
       "      <td>819</td>\n",
       "      <td>51</td>\n",
       "      <td>1</td>\n",
       "      <td>NaN</td>\n",
       "      <td>0.0</td>\n",
       "      <td>1.0</td>\n",
       "      <td>NaN</td>\n",
       "      <td>NaN</td>\n",
       "    </tr>\n",
       "  </tbody>\n",
       "</table>\n",
       "</div>"
      ],
      "text/plain": [
       "       Product_Code  Week  Sales  sales_next_week  lag_sales_1  diff_sales_1  \\\n",
       "42167           815    51      0              NaN          2.0          -2.0   \n",
       "42168           816    51      5              NaN          6.0          -1.0   \n",
       "42169           817    51      3              NaN          4.0          -1.0   \n",
       "42170           818    51      0              NaN          2.0          -2.0   \n",
       "42171           819    51      1              NaN          0.0           1.0   \n",
       "\n",
       "       mean_sales_4  sales_next_next_week  \n",
       "42167           NaN                   NaN  \n",
       "42168           NaN                   NaN  \n",
       "42169           NaN                   NaN  \n",
       "42170           NaN                   NaN  \n",
       "42171           NaN                   NaN  "
      ]
     },
     "execution_count": 84,
     "metadata": {},
     "output_type": "execute_result"
    }
   ],
   "source": [
    "melt_valid.tail()\n"
   ]
  },
  {
   "cell_type": "code",
   "execution_count": 85,
   "id": "b365c28f",
   "metadata": {},
   "outputs": [
    {
     "data": {
      "text/html": [
       "<div>\n",
       "<style scoped>\n",
       "    .dataframe tbody tr th:only-of-type {\n",
       "        vertical-align: middle;\n",
       "    }\n",
       "\n",
       "    .dataframe tbody tr th {\n",
       "        vertical-align: top;\n",
       "    }\n",
       "\n",
       "    .dataframe thead th {\n",
       "        text-align: right;\n",
       "    }\n",
       "</style>\n",
       "<table border=\"1\" class=\"dataframe\">\n",
       "  <thead>\n",
       "    <tr style=\"text-align: right;\">\n",
       "      <th></th>\n",
       "      <th>Product_Code</th>\n",
       "      <th>Week</th>\n",
       "      <th>Sales</th>\n",
       "      <th>sales_next_week</th>\n",
       "      <th>lag_sales_1</th>\n",
       "      <th>diff_sales_1</th>\n",
       "      <th>mean_sales_4</th>\n",
       "      <th>sales_next_next_week</th>\n",
       "    </tr>\n",
       "  </thead>\n",
       "  <tbody>\n",
       "    <tr>\n",
       "      <th>41361</th>\n",
       "      <td>1</td>\n",
       "      <td>51</td>\n",
       "      <td>10</td>\n",
       "      <td>NaN</td>\n",
       "      <td>5.0</td>\n",
       "      <td>5.0</td>\n",
       "      <td>NaN</td>\n",
       "      <td>NaN</td>\n",
       "    </tr>\n",
       "    <tr>\n",
       "      <th>41362</th>\n",
       "      <td>2</td>\n",
       "      <td>51</td>\n",
       "      <td>0</td>\n",
       "      <td>NaN</td>\n",
       "      <td>6.0</td>\n",
       "      <td>-6.0</td>\n",
       "      <td>NaN</td>\n",
       "      <td>NaN</td>\n",
       "    </tr>\n",
       "    <tr>\n",
       "      <th>41363</th>\n",
       "      <td>3</td>\n",
       "      <td>51</td>\n",
       "      <td>7</td>\n",
       "      <td>NaN</td>\n",
       "      <td>8.0</td>\n",
       "      <td>-1.0</td>\n",
       "      <td>NaN</td>\n",
       "      <td>NaN</td>\n",
       "    </tr>\n",
       "    <tr>\n",
       "      <th>41364</th>\n",
       "      <td>4</td>\n",
       "      <td>51</td>\n",
       "      <td>8</td>\n",
       "      <td>NaN</td>\n",
       "      <td>7.0</td>\n",
       "      <td>1.0</td>\n",
       "      <td>NaN</td>\n",
       "      <td>NaN</td>\n",
       "    </tr>\n",
       "    <tr>\n",
       "      <th>41365</th>\n",
       "      <td>5</td>\n",
       "      <td>51</td>\n",
       "      <td>9</td>\n",
       "      <td>NaN</td>\n",
       "      <td>8.0</td>\n",
       "      <td>1.0</td>\n",
       "      <td>NaN</td>\n",
       "      <td>NaN</td>\n",
       "    </tr>\n",
       "  </tbody>\n",
       "</table>\n",
       "</div>"
      ],
      "text/plain": [
       "       Product_Code  Week  Sales  sales_next_week  lag_sales_1  diff_sales_1  \\\n",
       "41361             1    51     10              NaN          5.0           5.0   \n",
       "41362             2    51      0              NaN          6.0          -6.0   \n",
       "41363             3    51      7              NaN          8.0          -1.0   \n",
       "41364             4    51      8              NaN          7.0           1.0   \n",
       "41365             5    51      9              NaN          8.0           1.0   \n",
       "\n",
       "       mean_sales_4  sales_next_next_week  \n",
       "41361           NaN                   NaN  \n",
       "41362           NaN                   NaN  \n",
       "41363           NaN                   NaN  \n",
       "41364           NaN                   NaN  \n",
       "41365           NaN                   NaN  "
      ]
     },
     "execution_count": 85,
     "metadata": {},
     "output_type": "execute_result"
    }
   ],
   "source": [
    "new_examples = melt_valid[melt_valid['Week'] == 51].copy()\n",
    "new_examples.head()"
   ]
  },
  {
   "cell_type": "code",
   "execution_count": 89,
   "id": "f37df299",
   "metadata": {},
   "outputs": [],
   "source": [
    "Xpred = imputer.transform(new_examples[features])\n",
    "\n",
    "p = mdl.predict(Xpred)"
   ]
  },
  {
   "cell_type": "code",
   "execution_count": 91,
   "id": "ff25062a",
   "metadata": {},
   "outputs": [],
   "source": [
    "new_examples['p_sales_next_week'] = p[:, 0]\n",
    "new_examples['p_sales_next_next_week'] = p[:, 1]"
   ]
  },
  {
   "cell_type": "code",
   "execution_count": 92,
   "id": "fc2562e9",
   "metadata": {},
   "outputs": [
    {
     "data": {
      "text/html": [
       "<div>\n",
       "<style scoped>\n",
       "    .dataframe tbody tr th:only-of-type {\n",
       "        vertical-align: middle;\n",
       "    }\n",
       "\n",
       "    .dataframe tbody tr th {\n",
       "        vertical-align: top;\n",
       "    }\n",
       "\n",
       "    .dataframe thead th {\n",
       "        text-align: right;\n",
       "    }\n",
       "</style>\n",
       "<table border=\"1\" class=\"dataframe\">\n",
       "  <thead>\n",
       "    <tr style=\"text-align: right;\">\n",
       "      <th></th>\n",
       "      <th>Product_Code</th>\n",
       "      <th>Week</th>\n",
       "      <th>Sales</th>\n",
       "      <th>sales_next_week</th>\n",
       "      <th>lag_sales_1</th>\n",
       "      <th>diff_sales_1</th>\n",
       "      <th>mean_sales_4</th>\n",
       "      <th>sales_next_next_week</th>\n",
       "      <th>p_sales_next_week</th>\n",
       "      <th>p_sales_next_next_week</th>\n",
       "    </tr>\n",
       "  </thead>\n",
       "  <tbody>\n",
       "    <tr>\n",
       "      <th>41361</th>\n",
       "      <td>1</td>\n",
       "      <td>51</td>\n",
       "      <td>10</td>\n",
       "      <td>NaN</td>\n",
       "      <td>5.0</td>\n",
       "      <td>5.0</td>\n",
       "      <td>NaN</td>\n",
       "      <td>NaN</td>\n",
       "      <td>10.376667</td>\n",
       "      <td>9.042000</td>\n",
       "    </tr>\n",
       "    <tr>\n",
       "      <th>41362</th>\n",
       "      <td>2</td>\n",
       "      <td>51</td>\n",
       "      <td>0</td>\n",
       "      <td>NaN</td>\n",
       "      <td>6.0</td>\n",
       "      <td>-6.0</td>\n",
       "      <td>NaN</td>\n",
       "      <td>NaN</td>\n",
       "      <td>5.277500</td>\n",
       "      <td>2.745000</td>\n",
       "    </tr>\n",
       "    <tr>\n",
       "      <th>41363</th>\n",
       "      <td>3</td>\n",
       "      <td>51</td>\n",
       "      <td>7</td>\n",
       "      <td>NaN</td>\n",
       "      <td>8.0</td>\n",
       "      <td>-1.0</td>\n",
       "      <td>NaN</td>\n",
       "      <td>NaN</td>\n",
       "      <td>8.728750</td>\n",
       "      <td>9.185940</td>\n",
       "    </tr>\n",
       "    <tr>\n",
       "      <th>41364</th>\n",
       "      <td>4</td>\n",
       "      <td>51</td>\n",
       "      <td>8</td>\n",
       "      <td>NaN</td>\n",
       "      <td>7.0</td>\n",
       "      <td>1.0</td>\n",
       "      <td>NaN</td>\n",
       "      <td>NaN</td>\n",
       "      <td>9.530952</td>\n",
       "      <td>6.718857</td>\n",
       "    </tr>\n",
       "    <tr>\n",
       "      <th>41365</th>\n",
       "      <td>5</td>\n",
       "      <td>51</td>\n",
       "      <td>9</td>\n",
       "      <td>NaN</td>\n",
       "      <td>8.0</td>\n",
       "      <td>1.0</td>\n",
       "      <td>NaN</td>\n",
       "      <td>NaN</td>\n",
       "      <td>7.544948</td>\n",
       "      <td>11.912801</td>\n",
       "    </tr>\n",
       "  </tbody>\n",
       "</table>\n",
       "</div>"
      ],
      "text/plain": [
       "       Product_Code  Week  Sales  sales_next_week  lag_sales_1  diff_sales_1  \\\n",
       "41361             1    51     10              NaN          5.0           5.0   \n",
       "41362             2    51      0              NaN          6.0          -6.0   \n",
       "41363             3    51      7              NaN          8.0          -1.0   \n",
       "41364             4    51      8              NaN          7.0           1.0   \n",
       "41365             5    51      9              NaN          8.0           1.0   \n",
       "\n",
       "       mean_sales_4  sales_next_next_week  p_sales_next_week  \\\n",
       "41361           NaN                   NaN          10.376667   \n",
       "41362           NaN                   NaN           5.277500   \n",
       "41363           NaN                   NaN           8.728750   \n",
       "41364           NaN                   NaN           9.530952   \n",
       "41365           NaN                   NaN           7.544948   \n",
       "\n",
       "       p_sales_next_next_week  \n",
       "41361                9.042000  \n",
       "41362                2.745000  \n",
       "41363                9.185940  \n",
       "41364                6.718857  \n",
       "41365               11.912801  "
      ]
     },
     "execution_count": 92,
     "metadata": {},
     "output_type": "execute_result"
    }
   ],
   "source": [
    "new_examples.head()\n"
   ]
  },
  {
   "cell_type": "code",
   "execution_count": null,
   "id": "237ca1bb",
   "metadata": {},
   "outputs": [],
   "source": []
  }
 ],
 "metadata": {
  "kernelspec": {
   "display_name": "Python 3 (ipykernel)",
   "language": "python",
   "name": "python3"
  },
  "language_info": {
   "codemirror_mode": {
    "name": "ipython",
    "version": 3
   },
   "file_extension": ".py",
   "mimetype": "text/x-python",
   "name": "python",
   "nbconvert_exporter": "python",
   "pygments_lexer": "ipython3",
   "version": "3.8.8"
  }
 },
 "nbformat": 4,
 "nbformat_minor": 5
}
