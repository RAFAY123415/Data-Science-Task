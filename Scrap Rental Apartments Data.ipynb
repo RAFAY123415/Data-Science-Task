{
 "cells": [
  {
   "cell_type": "code",
   "execution_count": 6,
   "id": "e7d7e3ab",
   "metadata": {},
   "outputs": [],
   "source": [
    "import requests\n",
    "from bs4 import BeautifulSoup\n",
    "import csv"
   ]
  },
  {
   "cell_type": "code",
   "execution_count": 7,
   "id": "4823a757",
   "metadata": {},
   "outputs": [],
   "source": [
    "url='https://www.pararius.com/apartments/amsterdam?ac=1'"
   ]
  },
  {
   "cell_type": "code",
   "execution_count": 8,
   "id": "b9a2802c",
   "metadata": {},
   "outputs": [],
   "source": [
    "page=requests.get(url)"
   ]
  },
  {
   "cell_type": "code",
   "execution_count": 9,
   "id": "0460641b",
   "metadata": {},
   "outputs": [],
   "source": [
    "soup=BeautifulSoup(page.content,'html.parser')"
   ]
  },
  {
   "cell_type": "code",
   "execution_count": 10,
   "id": "62027f27",
   "metadata": {},
   "outputs": [],
   "source": [
    "lists=soup.find_all('section',class_=\"listing-search-item\")"
   ]
  },
  {
   "cell_type": "code",
   "execution_count": 17,
   "id": "e0b6cc12",
   "metadata": {},
   "outputs": [
    {
     "name": "stdout",
     "output_type": "stream",
     "text": [
      "['Apartment Wolbrantskerkweg', '1069 DA Amsterdam (Osdorp-Midden)', '€2,495 per month', '132 m²', '3 rooms']\n",
      "['Apartment Hagedoornplein', '1031 BV Amsterdam (Volewijck)', '€2,995 per month', '140 m²', '4 rooms']\n",
      "['Apartment Derde Wittenburgerdwarsstraat 99', '1018 KR Amsterdam (Oostelijke Eilanden/Kadijken)', '€2,090 per month', '60 m²', '3 rooms']\n",
      "['Apartment Lindenstraat 1 1', '1015 KV Amsterdam (Jordaan)', '€1,550 per month', '45 m²', '2 rooms']\n",
      "['Apartment Jan Boterenbroodstraat 76', '1019 GK Amsterdam (Oostelijk Havengebied)', '€2,000 per month', '70 m²', '3 rooms']\n",
      "['Apartment Prinsengracht 411 I', '1016 HM Amsterdam (Grachtengordel-West)', '€2,450 per month', '86 m²', '2 rooms']\n",
      "['Apartment Kinkerstraat 60 I', '1053 DZ Amsterdam (Da Costabuurt)', '€1,995 per month', '40 m²', '2 rooms']\n",
      "['Apartment Griseldestraat 11 II', '1055 AR Amsterdam (Erasmuspark)', '€1,550 per month', '51 m²', '2 rooms']\n",
      "['Apartment Prinsengracht', '1016 HW Amsterdam (Jordaan)', '€2,750 per month', '62 m²', '2 rooms']\n",
      "['Apartment Schaepmanstraat', '1051 JJ Amsterdam (Staatsliedenbuurt)', '€1,700 per month', '58 m²', '3 rooms']\n",
      "['Apartment Kerkstraat', '1017 HW Amsterdam (Grachtengordel-Zuid)', '€3,500 per month', '120 m²', '3 rooms']\n",
      "['Apartment Ank van der Moerstraat 31 D', '1065 LH Amsterdam (Slotervaart Zuid)', '€1,395 per month', '30 m²', '2 rooms']\n",
      "['Apartment Woestduinstraat 3 2', '1058 SX Amsterdam (Hoofddorppleinbuurt)', '€1,950 per month', '65 m²', '2 rooms']\n",
      "['Apartment Rooseveltlaan', '1078 NP Amsterdam (Scheldebuurt)', '€1,750 per month', '55 m²', '2 rooms']\n",
      "['Apartment Prinsengracht 447 B', '1016 HN Amsterdam (Grachtengordel-West)', '€2,450 per month', '70 m²', '2 rooms']\n",
      "['Apartment Marco Polostraat', '1057 WG Amsterdam (Hoofdweg e.o.)', '€3,300 per month', '117 m²', '4 rooms']\n",
      "['Apartment Vleutenstraat 94', '1106 CX Amsterdam (Gein)', '€1,650 per month', '71 m²', '3 rooms']\n",
      "['Apartment Reguliersdwarsstraat 100 A', '1017 BN Amsterdam (Grachtengordel-Zuid)', '€2,950 per month', '102 m²', '3 rooms']\n",
      "['Apartment Karel du Jardinstraat', '1072 SK Amsterdam (Nieuwe Pijp)', '€2,450 per month', '55 m²', '3 rooms']\n",
      "['Apartment Ennemaborg', '1082 ST Amsterdam (Buitenveldert-West)', '€1,800 per month', '100 m²', '3 rooms']\n",
      "['Apartment Pieter van der Doesstraat', '1056 VK Amsterdam (Geuzenbuurt)', '€2,900 per month', '90 m²', '5 rooms']\n",
      "['Apartment Johan Hofmanstraat', '1069 KD Amsterdam (Osdorp-Midden)', '€2,350 per month', '160 m²', '4 rooms']\n",
      "['Apartment Nachtwachtlaan', '1058 ER Amsterdam (Overtoomse Veld)', '€1,850 per month', '60 m²', '2 rooms']\n",
      "['Apartment Tweede Oosterparkstraat', '1091 HT Amsterdam (Oosterparkbuurt)', '€1,045 per month', '35 m²', '1 room']\n",
      "['Project: Q-Residences | Quartz - APPARTEMENT H–G LUXE', '1081 AB Amsterdam (Buitenveldert-West)', '€1,900 - €1,925 per month', '74 m²', '3 rooms']\n",
      "['Project: Q-Residences | Quartz - APPARTEMENT H–F’ LUXE', '1081 AB Amsterdam (Buitenveldert-West)', '€1,950 - €2,000 per month', '77 m²', '3 rooms']\n",
      "['Project: Q-Residences | Quartz - APPARTEMENT H–I’ LUXE', '1081 AB Amsterdam (Buitenveldert-West)', '€2,790 - €2,850 per month', '107 m²', '4 rooms']\n",
      "['Project: Q-Residences | Quartz - APPARTEMENT H–F LUXE', '1081 AB Amsterdam (Buitenveldert-West)', '€1,950 - €2,000 per month', '77 m²', '3 rooms']\n",
      "['Project: Q-Residences | Quartz - APPARTEMENT H–I EXCLUSIEF', '1081 AB Amsterdam (Buitenveldert-West)', '€3,225 per month', '107 m²', '4 rooms']\n",
      "['Project: Q-Residences | Quartz - APPARTEMENT H–I’ EXCLUSIEF', '1081 AB Amsterdam (Buitenveldert-West)', '€3,225 per month', '107 m²', '4 rooms']\n",
      "['Project: Q-Residences | Quartz - APPARTEMENT H–A’ LUXE', '1081 AB Amsterdam (Buitenveldert-West)', '€1,650 - €1,675 per month', '68 m²', '3 rooms']\n",
      "['Project: Q-Residences | Quartz - APPARTEMENT H–G’ LUXE', '1081 AB Amsterdam (Buitenveldert-West)', '€1,900 - €1,925 per month', '74 m²', '3 rooms']\n"
     ]
    }
   ],
   "source": [
    "header = ['Title', 'Location', 'Price', 'Area','Rooms']\n",
    "\n",
    "with open('apartmentdata.csv', 'w', encoding='UTF8',newline='') as f:\n",
    "    writer = csv.writer(f)\n",
    "    writer.writerow(header)\n",
    "    for i in lists :\n",
    "            title=i.find('a',class_=\"listing-search-item__link--title\").text.replace('\\n','').strip()\n",
    "            location=i.find('div',class_=\"listing-search-item__sub-title\").text.replace('\\n','').strip()\n",
    "            price=i.find('div',class_=\"listing-search-item__price\").text.replace('\\n','').strip()\n",
    "            area=i.find('li',class_=\"illustrated-features__item--surface-area\").text.replace('\\n','').strip()\n",
    "            rooms=i.find('li',class_=\"illustrated-features__item--number-of-rooms\").text.replace('\\n','').strip()\n",
    "            info=[title,location,price,area,rooms]\n",
    "            print(info)\n",
    "            writer.writerow(info)\n",
    "\n"
   ]
  },
  {
   "cell_type": "code",
   "execution_count": null,
   "id": "f2a49e92",
   "metadata": {},
   "outputs": [],
   "source": []
  }
 ],
 "metadata": {
  "kernelspec": {
   "display_name": "Python 3 (ipykernel)",
   "language": "python",
   "name": "python3"
  },
  "language_info": {
   "codemirror_mode": {
    "name": "ipython",
    "version": 3
   },
   "file_extension": ".py",
   "mimetype": "text/x-python",
   "name": "python",
   "nbconvert_exporter": "python",
   "pygments_lexer": "ipython3",
   "version": "3.9.15"
  }
 },
 "nbformat": 4,
 "nbformat_minor": 5
}
