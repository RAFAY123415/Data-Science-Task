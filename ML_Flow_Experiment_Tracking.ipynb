{
  "nbformat": 4,
  "nbformat_minor": 0,
  "metadata": {
    "colab": {
      "provenance": []
    },
    "kernelspec": {
      "name": "python3",
      "display_name": "Python 3"
    },
    "language_info": {
      "name": "python"
    }
  },
  "cells": [
    {
      "cell_type": "markdown",
      "source": [
        "## Learning ML Flow For Experiment Tracking"
      ],
      "metadata": {
        "id": "sF5Rf2qUh49Q"
      }
    },
    {
      "cell_type": "code",
      "execution_count": 8,
      "metadata": {
        "colab": {
          "base_uri": "https://localhost:8080/"
        },
        "id": "Zch_Glqph4OK",
        "outputId": "5530488e-0203-43d8-95dc-fbca6f51890e"
      },
      "outputs": [
        {
          "output_type": "stream",
          "name": "stdout",
          "text": [
            "Requirement already satisfied: mlflow in /usr/local/lib/python3.10/dist-packages (2.17.2)\n",
            "Requirement already satisfied: mlflow-skinny==2.17.2 in /usr/local/lib/python3.10/dist-packages (from mlflow) (2.17.2)\n",
            "Requirement already satisfied: Flask<4 in /usr/local/lib/python3.10/dist-packages (from mlflow) (2.2.5)\n",
            "Requirement already satisfied: alembic!=1.10.0,<2 in /usr/local/lib/python3.10/dist-packages (from mlflow) (1.13.3)\n",
            "Requirement already satisfied: docker<8,>=4.0.0 in /usr/local/lib/python3.10/dist-packages (from mlflow) (7.1.0)\n",
            "Requirement already satisfied: graphene<4 in /usr/local/lib/python3.10/dist-packages (from mlflow) (3.4.1)\n",
            "Requirement already satisfied: markdown<4,>=3.3 in /usr/local/lib/python3.10/dist-packages (from mlflow) (3.7)\n",
            "Requirement already satisfied: matplotlib<4 in /usr/local/lib/python3.10/dist-packages (from mlflow) (3.8.0)\n",
            "Requirement already satisfied: numpy<3 in /usr/local/lib/python3.10/dist-packages (from mlflow) (1.26.4)\n",
            "Requirement already satisfied: pandas<3 in /usr/local/lib/python3.10/dist-packages (from mlflow) (2.2.2)\n",
            "Requirement already satisfied: pyarrow<18,>=4.0.0 in /usr/local/lib/python3.10/dist-packages (from mlflow) (17.0.0)\n",
            "Requirement already satisfied: scikit-learn<2 in /usr/local/lib/python3.10/dist-packages (from mlflow) (1.5.2)\n",
            "Requirement already satisfied: scipy<2 in /usr/local/lib/python3.10/dist-packages (from mlflow) (1.13.1)\n",
            "Requirement already satisfied: sqlalchemy<3,>=1.4.0 in /usr/local/lib/python3.10/dist-packages (from mlflow) (2.0.36)\n",
            "Requirement already satisfied: Jinja2<4,>=2.11 in /usr/local/lib/python3.10/dist-packages (from mlflow) (3.1.4)\n",
            "Requirement already satisfied: gunicorn<24 in /usr/local/lib/python3.10/dist-packages (from mlflow) (23.0.0)\n",
            "Requirement already satisfied: cachetools<6,>=5.0.0 in /usr/local/lib/python3.10/dist-packages (from mlflow-skinny==2.17.2->mlflow) (5.5.0)\n",
            "Requirement already satisfied: click<9,>=7.0 in /usr/local/lib/python3.10/dist-packages (from mlflow-skinny==2.17.2->mlflow) (8.1.7)\n",
            "Requirement already satisfied: cloudpickle<4 in /usr/local/lib/python3.10/dist-packages (from mlflow-skinny==2.17.2->mlflow) (3.1.0)\n",
            "Requirement already satisfied: databricks-sdk<1,>=0.20.0 in /usr/local/lib/python3.10/dist-packages (from mlflow-skinny==2.17.2->mlflow) (0.36.0)\n",
            "Requirement already satisfied: gitpython<4,>=3.1.9 in /usr/local/lib/python3.10/dist-packages (from mlflow-skinny==2.17.2->mlflow) (3.1.43)\n",
            "Requirement already satisfied: importlib-metadata!=4.7.0,<9,>=3.7.0 in /usr/local/lib/python3.10/dist-packages (from mlflow-skinny==2.17.2->mlflow) (8.5.0)\n",
            "Requirement already satisfied: opentelemetry-api<3,>=1.9.0 in /usr/local/lib/python3.10/dist-packages (from mlflow-skinny==2.17.2->mlflow) (1.16.0)\n",
            "Requirement already satisfied: opentelemetry-sdk<3,>=1.9.0 in /usr/local/lib/python3.10/dist-packages (from mlflow-skinny==2.17.2->mlflow) (1.16.0)\n",
            "Requirement already satisfied: packaging<25 in /usr/local/lib/python3.10/dist-packages (from mlflow-skinny==2.17.2->mlflow) (24.1)\n",
            "Requirement already satisfied: protobuf<6,>=3.12.0 in /usr/local/lib/python3.10/dist-packages (from mlflow-skinny==2.17.2->mlflow) (3.20.3)\n",
            "Requirement already satisfied: pyyaml<7,>=5.1 in /usr/local/lib/python3.10/dist-packages (from mlflow-skinny==2.17.2->mlflow) (6.0.2)\n",
            "Requirement already satisfied: requests<3,>=2.17.3 in /usr/local/lib/python3.10/dist-packages (from mlflow-skinny==2.17.2->mlflow) (2.32.3)\n",
            "Requirement already satisfied: sqlparse<1,>=0.4.0 in /usr/local/lib/python3.10/dist-packages (from mlflow-skinny==2.17.2->mlflow) (0.5.1)\n",
            "Requirement already satisfied: Mako in /usr/local/lib/python3.10/dist-packages (from alembic!=1.10.0,<2->mlflow) (1.3.6)\n",
            "Requirement already satisfied: typing-extensions>=4 in /usr/local/lib/python3.10/dist-packages (from alembic!=1.10.0,<2->mlflow) (4.12.2)\n",
            "Requirement already satisfied: urllib3>=1.26.0 in /usr/local/lib/python3.10/dist-packages (from docker<8,>=4.0.0->mlflow) (2.2.3)\n",
            "Requirement already satisfied: Werkzeug>=2.2.2 in /usr/local/lib/python3.10/dist-packages (from Flask<4->mlflow) (3.0.6)\n",
            "Requirement already satisfied: itsdangerous>=2.0 in /usr/local/lib/python3.10/dist-packages (from Flask<4->mlflow) (2.2.0)\n",
            "Requirement already satisfied: graphql-core<3.3,>=3.1 in /usr/local/lib/python3.10/dist-packages (from graphene<4->mlflow) (3.2.5)\n",
            "Requirement already satisfied: graphql-relay<3.3,>=3.1 in /usr/local/lib/python3.10/dist-packages (from graphene<4->mlflow) (3.2.0)\n",
            "Requirement already satisfied: python-dateutil<3,>=2.7.0 in /usr/local/lib/python3.10/dist-packages (from graphene<4->mlflow) (2.8.2)\n",
            "Requirement already satisfied: MarkupSafe>=2.0 in /usr/local/lib/python3.10/dist-packages (from Jinja2<4,>=2.11->mlflow) (3.0.2)\n",
            "Requirement already satisfied: contourpy>=1.0.1 in /usr/local/lib/python3.10/dist-packages (from matplotlib<4->mlflow) (1.3.0)\n",
            "Requirement already satisfied: cycler>=0.10 in /usr/local/lib/python3.10/dist-packages (from matplotlib<4->mlflow) (0.12.1)\n",
            "Requirement already satisfied: fonttools>=4.22.0 in /usr/local/lib/python3.10/dist-packages (from matplotlib<4->mlflow) (4.54.1)\n",
            "Requirement already satisfied: kiwisolver>=1.0.1 in /usr/local/lib/python3.10/dist-packages (from matplotlib<4->mlflow) (1.4.7)\n",
            "Requirement already satisfied: pillow>=6.2.0 in /usr/local/lib/python3.10/dist-packages (from matplotlib<4->mlflow) (10.4.0)\n",
            "Requirement already satisfied: pyparsing>=2.3.1 in /usr/local/lib/python3.10/dist-packages (from matplotlib<4->mlflow) (3.2.0)\n",
            "Requirement already satisfied: pytz>=2020.1 in /usr/local/lib/python3.10/dist-packages (from pandas<3->mlflow) (2024.2)\n",
            "Requirement already satisfied: tzdata>=2022.7 in /usr/local/lib/python3.10/dist-packages (from pandas<3->mlflow) (2024.2)\n",
            "Requirement already satisfied: joblib>=1.2.0 in /usr/local/lib/python3.10/dist-packages (from scikit-learn<2->mlflow) (1.4.2)\n",
            "Requirement already satisfied: threadpoolctl>=3.1.0 in /usr/local/lib/python3.10/dist-packages (from scikit-learn<2->mlflow) (3.5.0)\n",
            "Requirement already satisfied: greenlet!=0.4.17 in /usr/local/lib/python3.10/dist-packages (from sqlalchemy<3,>=1.4.0->mlflow) (3.1.1)\n",
            "Requirement already satisfied: google-auth~=2.0 in /usr/local/lib/python3.10/dist-packages (from databricks-sdk<1,>=0.20.0->mlflow-skinny==2.17.2->mlflow) (2.27.0)\n",
            "Requirement already satisfied: gitdb<5,>=4.0.1 in /usr/local/lib/python3.10/dist-packages (from gitpython<4,>=3.1.9->mlflow-skinny==2.17.2->mlflow) (4.0.11)\n",
            "Requirement already satisfied: zipp>=3.20 in /usr/local/lib/python3.10/dist-packages (from importlib-metadata!=4.7.0,<9,>=3.7.0->mlflow-skinny==2.17.2->mlflow) (3.20.2)\n",
            "Requirement already satisfied: deprecated>=1.2.6 in /usr/local/lib/python3.10/dist-packages (from opentelemetry-api<3,>=1.9.0->mlflow-skinny==2.17.2->mlflow) (1.2.14)\n",
            "Requirement already satisfied: setuptools>=16.0 in /usr/local/lib/python3.10/dist-packages (from opentelemetry-api<3,>=1.9.0->mlflow-skinny==2.17.2->mlflow) (75.1.0)\n",
            "Requirement already satisfied: opentelemetry-semantic-conventions==0.37b0 in /usr/local/lib/python3.10/dist-packages (from opentelemetry-sdk<3,>=1.9.0->mlflow-skinny==2.17.2->mlflow) (0.37b0)\n",
            "Requirement already satisfied: six>=1.5 in /usr/local/lib/python3.10/dist-packages (from python-dateutil<3,>=2.7.0->graphene<4->mlflow) (1.16.0)\n",
            "Requirement already satisfied: charset-normalizer<4,>=2 in /usr/local/lib/python3.10/dist-packages (from requests<3,>=2.17.3->mlflow-skinny==2.17.2->mlflow) (3.4.0)\n",
            "Requirement already satisfied: idna<4,>=2.5 in /usr/local/lib/python3.10/dist-packages (from requests<3,>=2.17.3->mlflow-skinny==2.17.2->mlflow) (3.10)\n",
            "Requirement already satisfied: certifi>=2017.4.17 in /usr/local/lib/python3.10/dist-packages (from requests<3,>=2.17.3->mlflow-skinny==2.17.2->mlflow) (2024.8.30)\n",
            "Requirement already satisfied: wrapt<2,>=1.10 in /usr/local/lib/python3.10/dist-packages (from deprecated>=1.2.6->opentelemetry-api<3,>=1.9.0->mlflow-skinny==2.17.2->mlflow) (1.16.0)\n",
            "Requirement already satisfied: smmap<6,>=3.0.1 in /usr/local/lib/python3.10/dist-packages (from gitdb<5,>=4.0.1->gitpython<4,>=3.1.9->mlflow-skinny==2.17.2->mlflow) (5.0.1)\n",
            "Requirement already satisfied: pyasn1-modules>=0.2.1 in /usr/local/lib/python3.10/dist-packages (from google-auth~=2.0->databricks-sdk<1,>=0.20.0->mlflow-skinny==2.17.2->mlflow) (0.4.1)\n",
            "Requirement already satisfied: rsa<5,>=3.1.4 in /usr/local/lib/python3.10/dist-packages (from google-auth~=2.0->databricks-sdk<1,>=0.20.0->mlflow-skinny==2.17.2->mlflow) (4.9)\n",
            "Requirement already satisfied: pyasn1<0.7.0,>=0.4.6 in /usr/local/lib/python3.10/dist-packages (from pyasn1-modules>=0.2.1->google-auth~=2.0->databricks-sdk<1,>=0.20.0->mlflow-skinny==2.17.2->mlflow) (0.6.1)\n",
            "Requirement already satisfied: pyngrok in /usr/local/lib/python3.10/dist-packages (7.2.0)\n",
            "Requirement already satisfied: PyYAML>=5.1 in /usr/local/lib/python3.10/dist-packages (from pyngrok) (6.0.2)\n"
          ]
        }
      ],
      "source": [
        "!pip install mlflow\n",
        "!pip install pyngrok"
      ]
    },
    {
      "cell_type": "code",
      "source": [
        "from pyngrok import ngrok\n",
        "!ngrok authtoken 2oJDlb5veSoBAqFU8pZT1nq4txa_3QG16FArPmQJavMSexFF5"
      ],
      "metadata": {
        "colab": {
          "base_uri": "https://localhost:8080/"
        },
        "id": "OR0jrvohiRxT",
        "outputId": "c9155c99-5728-423c-c73f-aced84695e40"
      },
      "execution_count": 9,
      "outputs": [
        {
          "output_type": "stream",
          "name": "stdout",
          "text": [
            "Authtoken saved to configuration file: /root/.config/ngrok/ngrok.yml\n"
          ]
        }
      ]
    },
    {
      "cell_type": "code",
      "source": [
        "from pyngrok import ngrok\n",
        "import mlflow\n",
        "\n",
        "# Ngrok ke through MLflow server ka public URL generate karna\n",
        "ngrok_tunnel = ngrok.connect(5000)\n",
        "mlflow_tracking_uri = ngrok_tunnel.public_url\n",
        "print(\"MLflow Tracking URI:\", mlflow_tracking_uri)\n",
        "\n",
        "# MLflow server ko background mein start karna\n",
        "get_ipython().system_raw(\"mlflow ui --port 5000 --host 0.0.0.0 &\")\n",
        "\n",
        "# Tracking URI ko MLflow ke liye set karna\n",
        "mlflow.set_tracking_uri(mlflow_tracking_uri)\n"
      ],
      "metadata": {
        "colab": {
          "base_uri": "https://localhost:8080/"
        },
        "id": "MOwSRyTgjPpQ",
        "outputId": "46a8b69b-0c31-4ba0-8686-893114a1455f"
      },
      "execution_count": 10,
      "outputs": [
        {
          "output_type": "stream",
          "name": "stdout",
          "text": [
            "MLflow Tracking URI: https://c153-35-190-132-49.ngrok-free.app\n"
          ]
        }
      ]
    },
    {
      "cell_type": "code",
      "source": [
        "import mlflow\n",
        "import mlflow.sklearn\n",
        "from sklearn.datasets import load_iris\n",
        "from sklearn.model_selection import train_test_split\n",
        "from sklearn.ensemble import RandomForestClassifier\n",
        "from sklearn.metrics import accuracy_score\n",
        "\n",
        "# Data Load Karna\n",
        "data = load_iris()\n",
        "X = data.data\n",
        "y = data.target\n",
        "\n",
        "# Data Split Karna\n",
        "X_train, X_test, y_train, y_test = train_test_split(X, y, test_size=0.2, random_state=42)\n",
        "\n",
        "# MLflow Tracking Start Karna\n",
        "mlflow.start_run()\n",
        "\n",
        "# Model Train Karna\n",
        "model = RandomForestClassifier(n_estimators=100, random_state=42)\n",
        "model.fit(X_train, y_train)\n",
        "\n",
        "# Predictions Karna\n",
        "predictions = model.predict(X_test)\n",
        "\n",
        "# Accuracy Calculate Karna\n",
        "accuracy = accuracy_score(y_test, predictions)\n",
        "print(f\"Model Accuracy: {accuracy}\")\n",
        "\n",
        "# Parameters aur Metrics Log Karna\n",
        "mlflow.log_param(\"n_estimators\", 100)\n",
        "mlflow.log_param(\"test_size\", 0.2)\n",
        "mlflow.log_metric(\"accuracy\", accuracy)\n",
        "\n",
        "# Model Save Karna\n",
        "mlflow.sklearn.log_model(model, \"random_forest_model\")\n",
        "\n",
        "# Run End Karna\n",
        "mlflow.end_run()\n"
      ],
      "metadata": {
        "colab": {
          "base_uri": "https://localhost:8080/"
        },
        "id": "7AdMk9OYjcH2",
        "outputId": "fa9b6121-bf76-44cb-8ee8-99db67951724"
      },
      "execution_count": null,
      "outputs": [
        {
          "output_type": "stream",
          "name": "stdout",
          "text": [
            "Model Accuracy: 1.0\n"
          ]
        },
        {
          "output_type": "stream",
          "name": "stderr",
          "text": [
            "2024/11/03 09:11:23 WARNING mlflow.models.model: Model logged without a signature and input example. Please set `input_example` parameter when logging the model to auto infer the model signature.\n",
            "2024/11/03 09:11:24 INFO mlflow.tracking._tracking_service.client: 🏃 View run stately-bear-141 at: https://dea1-35-190-132-49.ngrok-free.app/#/experiments/0/runs/d4cbe56419dd4c5bad16fa4d24a6bb40.\n",
            "2024/11/03 09:11:24 INFO mlflow.tracking._tracking_service.client: 🧪 View experiment at: https://dea1-35-190-132-49.ngrok-free.app/#/experiments/0.\n"
          ]
        }
      ]
    },
    {
      "cell_type": "code",
      "source": [
        "import mlflow\n",
        "import mlflow.sklearn\n",
        "from sklearn.datasets import load_iris\n",
        "from sklearn.model_selection import train_test_split\n",
        "from sklearn.ensemble import RandomForestClassifier\n",
        "from sklearn.metrics import accuracy_score, precision_score, recall_score, f1_score\n",
        "\n",
        "# Data Load Karna\n",
        "data = load_iris()\n",
        "X = data.data\n",
        "y = data.target\n",
        "\n",
        "# Data Split Karna\n",
        "X_train, X_test, y_train, y_test = train_test_split(X, y, test_size=0.2, random_state=42)\n",
        "\n",
        "# MLflow Tracking Start Karna\n",
        "with mlflow.start_run(run_name=\"RandomForestClassifier\"):\n",
        "\n",
        "    # Model Train Karna\n",
        "    model = RandomForestClassifier(n_estimators=100, random_state=42)\n",
        "    model.fit(X_train, y_train)\n",
        "\n",
        "    # Predictions Karna\n",
        "    predictions = model.predict(X_test)\n",
        "\n",
        "    # Accuracy Calculate Karna\n",
        "    accuracy = accuracy_score(y_test, predictions)\n",
        "    precision = precision_score(y_test, predictions, average=\"macro\")\n",
        "    recall = recall_score(y_test, predictions, average=\"macro\")\n",
        "    f1 = f1_score(y_test, predictions, average=\"macro\")\n",
        "\n",
        "    print(f\"Accuracy: {accuracy}\")\n",
        "    print(f\"Precision: {precision}\")\n",
        "    print(f\"Recall: {recall}\")\n",
        "    print(f\"F1 Score: {f1}\")\n",
        "\n",
        "    # Parameters aur Metrics Log Karna\n",
        "    mlflow.log_param(\"n_estimators\", 100)\n",
        "    mlflow.log_param(\"test_size\", 0.2)\n",
        "    mlflow.log_metric(\"accuracy\", accuracy)\n",
        "    mlflow.log_metric(\"precision\", precision)\n",
        "    mlflow.log_metric(\"recall\", recall)\n",
        "    mlflow.log_metric(\"f1_score\", f1)\n",
        "\n",
        "    # Model Save Karna\n",
        "    mlflow.sklearn.log_model(model, \"random_forest_model\")\n",
        "\n",
        "# Run End Karna (automatic with 'with' statement)\n"
      ],
      "metadata": {
        "colab": {
          "base_uri": "https://localhost:8080/"
        },
        "id": "u5n4swuekULd",
        "outputId": "fb2b4ff2-6730-47df-d589-def5ce3f2da9"
      },
      "execution_count": null,
      "outputs": [
        {
          "output_type": "stream",
          "name": "stdout",
          "text": [
            "Accuracy: 1.0\n",
            "Precision: 1.0\n",
            "Recall: 1.0\n",
            "F1 Score: 1.0\n"
          ]
        },
        {
          "output_type": "stream",
          "name": "stderr",
          "text": [
            "2024/11/03 09:30:37 WARNING mlflow.models.model: Model logged without a signature and input example. Please set `input_example` parameter when logging the model to auto infer the model signature.\n",
            "2024/11/03 09:30:38 INFO mlflow.tracking._tracking_service.client: 🏃 View run RandomForestClassifier at: https://dea1-35-190-132-49.ngrok-free.app/#/experiments/0/runs/2e76366f90c54eb7b80469f503262069.\n",
            "2024/11/03 09:30:38 INFO mlflow.tracking._tracking_service.client: 🧪 View experiment at: https://dea1-35-190-132-49.ngrok-free.app/#/experiments/0.\n"
          ]
        }
      ]
    },
    {
      "cell_type": "code",
      "source": [
        "import mlflow\n",
        "import mlflow.sklearn\n",
        "from sklearn.ensemble import RandomForestClassifier\n",
        "from sklearn.metrics import accuracy_score\n",
        "from sklearn.model_selection import train_test_split\n",
        "from sklearn.datasets import load_iris\n",
        "import matplotlib.pyplot as plt\n",
        "import pandas as pd\n",
        "import seaborn as sns\n",
        "import os\n",
        "\n",
        "# Data load aur split karna\n",
        "data = load_iris()\n",
        "X = data.data\n",
        "y = data.target\n",
        "X_train, X_test, y_train, y_test = train_test_split(X, y, test_size=0.2, random_state=42)\n",
        "\n",
        "# MLflow tracking start karna\n",
        "with mlflow.start_run(run_name=\"RandomForest_Example\"):\n",
        "\n",
        "    # Model train karna\n",
        "    model = RandomForestClassifier(n_estimators=100, random_state=42)\n",
        "    model.fit(X_train, y_train)\n",
        "\n",
        "    # Predictions aur accuracy calculate karna\n",
        "    predictions = model.predict(X_test)\n",
        "    accuracy = accuracy_score(y_test, predictions)\n",
        "\n",
        "    # Parameters aur metrics log karna\n",
        "    mlflow.log_param(\"n_estimators\", 100)\n",
        "    mlflow.log_param(\"test_size\", 0.2)\n",
        "    mlflow.log_metric(\"accuracy\", accuracy)\n",
        "\n",
        "    # Confusion Matrix plot aur usko artifact ke tor par save karna\n",
        "    cm = pd.crosstab(y_test, predictions, rownames=[\"Actual\"], colnames=[\"Predicted\"])\n",
        "    sns.heatmap(cm, annot=True, fmt=\"d\")\n",
        "    plt.title(\"Confusion Matrix\")\n",
        "    plt.savefig(\"confusion_matrix.png\")\n",
        "    mlflow.log_artifact(\"confusion_matrix.png\")\n",
        "\n",
        "    # Model ko artifact ke tor par save karna\n",
        "    mlflow.sklearn.log_model(model, \"random_forest_model\")\n",
        "\n",
        "# Confusion matrix image delete karna (optional)\n",
        "os.remove(\"confusion_matrix.png\")\n"
      ],
      "metadata": {
        "colab": {
          "base_uri": "https://localhost:8080/",
          "height": 544
        },
        "id": "tFsymB51uBpP",
        "outputId": "1fff06ec-2481-4214-9a1c-a9ca031ddec0"
      },
      "execution_count": 16,
      "outputs": [
        {
          "output_type": "stream",
          "name": "stderr",
          "text": [
            "2024/11/03 11:25:07 WARNING mlflow.models.model: Model logged without a signature and input example. Please set `input_example` parameter when logging the model to auto infer the model signature.\n",
            "2024/11/03 11:25:08 INFO mlflow.tracking._tracking_service.client: 🏃 View run RandomForest_Example at: https://c153-35-190-132-49.ngrok-free.app/#/experiments/0/runs/08f5abce19764a249da620f32cf2b582.\n",
            "2024/11/03 11:25:08 INFO mlflow.tracking._tracking_service.client: 🧪 View experiment at: https://c153-35-190-132-49.ngrok-free.app/#/experiments/0.\n"
          ]
        },
        {
          "output_type": "display_data",
          "data": {
            "text/plain": [
              "<Figure size 640x480 with 2 Axes>"
            ],
            "image/png": "[encoded data removed]"
          },
          "metadata": {}
        }
      ]
    },
    {
      "cell_type": "code",
      "source": [
        "import mlflow\n",
        "import mlflow.sklearn\n",
        "from sklearn.ensemble import RandomForestClassifier\n",
        "from sklearn.metrics import accuracy_score\n",
        "from sklearn.model_selection import train_test_split\n",
        "from sklearn.datasets import load_iris\n",
        "import matplotlib.pyplot as plt\n",
        "import pandas as pd\n",
        "import seaborn as sns\n",
        "import os\n",
        "\n",
        "# Experiment name set karna\n",
        "mlflow.set_experiment(\"Iris_Classification_Project\")\n",
        "\n",
        "# Data load aur split karna\n",
        "data = load_iris()\n",
        "X = data.data\n",
        "y = data.target\n",
        "X_train, X_test, y_train, y_test = train_test_split(X, y, test_size=0.2, random_state=42)\n",
        "\n",
        "# MLflow tracking start karna (specific run name ke saath)\n",
        "with mlflow.start_run(run_name=\"RandomForest_Example\"):\n",
        "\n",
        "    # Model train karna\n",
        "    model = RandomForestClassifier(n_estimators=100, random_state=42)\n",
        "    model.fit(X_train, y_train)\n",
        "\n",
        "    # Predictions aur accuracy calculate karna\n",
        "    predictions = model.predict(X_test)\n",
        "    accuracy = accuracy_score(y_test, predictions)\n",
        "\n",
        "    # Parameters aur metrics log karna\n",
        "    mlflow.log_param(\"n_estimators\", 100)\n",
        "    mlflow.log_param(\"test_size\", 0.2)\n",
        "    mlflow.log_metric(\"accuracy\", accuracy)\n",
        "\n",
        "    # Confusion Matrix plot aur usko artifact ke tor par save karna\n",
        "    cm = pd.crosstab(y_test, predictions, rownames=[\"Actual\"], colnames=[\"Predicted\"])\n",
        "    sns.heatmap(cm, annot=True, fmt=\"d\")\n",
        "    plt.title(\"Confusion Matrix\")\n",
        "    plt.savefig(\"confusion_matrix.png\")\n",
        "    mlflow.log_artifact(\"confusion_matrix.png\")\n",
        "\n",
        "    # Model ko artifact ke tor par save karna\n",
        "    mlflow.sklearn.log_model(model, \"random_forest_model\")\n",
        "\n",
        "# Confusion matrix image delete karna (optional)\n",
        "os.remove(\"confusion_matrix.png\")\n"
      ],
      "metadata": {
        "colab": {
          "base_uri": "https://localhost:8080/",
          "height": 561
        },
        "id": "QWMWNgXQxYVE",
        "outputId": "bc83dd38-f8ac-4ecb-fff4-a49580576fa4"
      },
      "execution_count": 17,
      "outputs": [
        {
          "output_type": "stream",
          "name": "stderr",
          "text": [
            "2024/11/03 11:25:13 INFO mlflow.tracking.fluent: Experiment with name 'Iris_Classification_Project' does not exist. Creating a new experiment.\n",
            "2024/11/03 11:25:17 WARNING mlflow.models.model: Model logged without a signature and input example. Please set `input_example` parameter when logging the model to auto infer the model signature.\n",
            "2024/11/03 11:25:18 INFO mlflow.tracking._tracking_service.client: 🏃 View run RandomForest_Example at: https://c153-35-190-132-49.ngrok-free.app/#/experiments/269199248893816209/runs/0fbe97e9f56c47f3a80dec71439ecee6.\n",
            "2024/11/03 11:25:18 INFO mlflow.tracking._tracking_service.client: 🧪 View experiment at: https://c153-35-190-132-49.ngrok-free.app/#/experiments/269199248893816209.\n"
          ]
        },
        {
          "output_type": "display_data",
          "data": {
            "text/plain": [
              "<Figure size 640x480 with 2 Axes>"
            ],
            "image/png": "[encoded data removed]"
          },
          "metadata": {}
        }
      ]
    },
    {
      "cell_type": "code",
      "source": [
        "import mlflow\n",
        "import mlflow.sklearn\n",
        "from sklearn.ensemble import RandomForestClassifier\n",
        "from sklearn.neighbors import KNeighborsClassifier\n",
        "from sklearn.tree import DecisionTreeClassifier\n",
        "from sklearn.metrics import accuracy_score, precision_score, recall_score, f1_score\n",
        "from sklearn.model_selection import train_test_split\n",
        "from sklearn.datasets import load_iris\n",
        "import matplotlib.pyplot as plt\n",
        "import pandas as pd\n",
        "import seaborn as sns\n",
        "import os\n",
        "\n",
        "# Experiment name set karna\n",
        "mlflow.set_experiment(\"Iris_Multi_Model_Comparison\")\n",
        "\n",
        "# Data load aur split karna\n",
        "data = load_iris()\n",
        "X = data.data\n",
        "y = data.target\n",
        "X_train, X_test, y_train, y_test = train_test_split(X, y, test_size=0.2, random_state=42)\n",
        "\n",
        "# Models ko ek dictionary mein rakhna\n",
        "models = {\n",
        "    \"RandomForest\": RandomForestClassifier(n_estimators=100, random_state=42),\n",
        "    \"KNeighbors\": KNeighborsClassifier(n_neighbors=5),\n",
        "    \"DecisionTree\": DecisionTreeClassifier(random_state=42)\n",
        "}\n",
        "\n",
        "# Har model ke liye run start karna\n",
        "for model_name, model in models.items():\n",
        "    with mlflow.start_run(run_name=f\"{model_name}_Experiment\"):\n",
        "        # Model train karna\n",
        "        model.fit(X_train, y_train)\n",
        "\n",
        "        # Predictions aur metrics calculate karna\n",
        "        predictions = model.predict(X_test)\n",
        "        accuracy = accuracy_score(y_test, predictions)\n",
        "        precision = precision_score(y_test, predictions, average='weighted')\n",
        "        recall = recall_score(y_test, predictions, average='weighted')\n",
        "        f1 = f1_score(y_test, predictions, average='weighted')\n",
        "\n",
        "        # Parameters aur metrics log karna\n",
        "        mlflow.log_param(\"model_name\", model_name)\n",
        "        if model_name == \"RandomForest\":\n",
        "            mlflow.log_param(\"n_estimators\", 100)\n",
        "        elif model_name == \"KNeighbors\":\n",
        "            mlflow.log_param(\"n_neighbors\", 5)\n",
        "        # Additional parameters specific to DecisionTree or others can be added similarly\n",
        "\n",
        "        mlflow.log_metric(\"accuracy\", accuracy)\n",
        "        mlflow.log_metric(\"precision\", precision)\n",
        "        mlflow.log_metric(\"recall\", recall)\n",
        "        mlflow.log_metric(\"f1_score\", f1)\n",
        "\n",
        "        # Confusion Matrix plot aur usko artifact ke tor par save karna\n",
        "        cm = pd.crosstab(y_test, predictions, rownames=[\"Actual\"], colnames=[\"Predicted\"])\n",
        "        sns.heatmap(cm, annot=True, fmt=\"d\", cmap=\"Blues\")\n",
        "        plt.title(f\"Confusion Matrix for {model_name}\")\n",
        "        plt.savefig(f\"{model_name}_confusion_matrix.png\")\n",
        "        mlflow.log_artifact(f\"{model_name}_confusion_matrix.png\")\n",
        "\n",
        "        # Model ko artifact ke tor par save karna\n",
        "        mlflow.sklearn.log_model(model, f\"{model_name}_model\")\n",
        "\n",
        "        # Clean up plot files\n",
        "        plt.clf()  # Clear the current plot for the next iteration\n",
        "        os.remove(f\"{model_name}_confusion_matrix.png\")\n"
      ],
      "metadata": {
        "colab": {
          "base_uri": "https://localhost:8080/",
          "height": 228
        },
        "id": "pa1T1z8Fy1x9",
        "outputId": "e5564398-f932-4a7c-e0eb-d79800529755"
      },
      "execution_count": 18,
      "outputs": [
        {
          "output_type": "stream",
          "name": "stderr",
          "text": [
            "2024/11/03 11:38:10 INFO mlflow.tracking.fluent: Experiment with name 'Iris_Multi_Model_Comparison' does not exist. Creating a new experiment.\n",
            "2024/11/03 11:38:21 WARNING mlflow.models.model: Model logged without a signature and input example. Please set `input_example` parameter when logging the model to auto infer the model signature.\n",
            "2024/11/03 11:38:22 INFO mlflow.tracking._tracking_service.client: 🏃 View run RandomForest_Experiment at: https://c153-35-190-132-49.ngrok-free.app/#/experiments/740877412127057440/runs/f050bd73c64d4ef6a26f2ca82d53c055.\n",
            "2024/11/03 11:38:22 INFO mlflow.tracking._tracking_service.client: 🧪 View experiment at: https://c153-35-190-132-49.ngrok-free.app/#/experiments/740877412127057440.\n",
            "2024/11/03 11:38:31 WARNING mlflow.models.model: Model logged without a signature and input example. Please set `input_example` parameter when logging the model to auto infer the model signature.\n",
            "2024/11/03 11:38:31 INFO mlflow.tracking._tracking_service.client: 🏃 View run KNeighbors_Experiment at: https://c153-35-190-132-49.ngrok-free.app/#/experiments/740877412127057440/runs/e55d642c44ab45dca3ed31c8738186cf.\n",
            "2024/11/03 11:38:31 INFO mlflow.tracking._tracking_service.client: 🧪 View experiment at: https://c153-35-190-132-49.ngrok-free.app/#/experiments/740877412127057440.\n",
            "2024/11/03 11:38:35 WARNING mlflow.models.model: Model logged without a signature and input example. Please set `input_example` parameter when logging the model to auto infer the model signature.\n",
            "2024/11/03 11:38:35 INFO mlflow.tracking._tracking_service.client: 🏃 View run DecisionTree_Experiment at: https://c153-35-190-132-49.ngrok-free.app/#/experiments/740877412127057440/runs/6d1a2a7bd75e4897b470e54c9fe6f050.\n",
            "2024/11/03 11:38:35 INFO mlflow.tracking._tracking_service.client: 🧪 View experiment at: https://c153-35-190-132-49.ngrok-free.app/#/experiments/740877412127057440.\n"
          ]
        },
        {
          "output_type": "display_data",
          "data": {
            "text/plain": [
              "<Figure size 640x480 with 0 Axes>"
            ]
          },
          "metadata": {}
        }
      ]
    }
  ]
}